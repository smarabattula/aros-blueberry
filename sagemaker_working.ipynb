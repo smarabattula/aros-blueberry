{
 "cells": [
  {
   "cell_type": "markdown",
   "metadata": {},
   "source": [
    "## Working on creating a Sagemaker endpoint for model"
   ]
  },
  {
   "cell_type": "markdown",
   "metadata": {},
   "source": [
    "##### To run this in local,\n",
    "1) make changes to config file as per instructions in aws tower\n",
    "2) enter cmd 'aws configure sso' and set the required fields (strart URL and region from tower)\n"
   ]
  },
  {
   "cell_type": "code",
   "execution_count": 1,
   "metadata": {},
   "outputs": [
    {
     "name": "stdout",
     "output_type": "stream",
     "text": [
      "sagemaker.config INFO - Not applying SDK defaults from location: C:\\ProgramData\\sagemaker\\sagemaker\\config.yaml\n",
      "sagemaker.config INFO - Not applying SDK defaults from location: C:\\Users\\sasan\\AppData\\Local\\sagemaker\\sagemaker\\config.yaml\n"
     ]
    }
   ],
   "source": [
    "from sagemaker.pytorch import PyTorchModel\n",
    "import sagemaker\n",
    "from time import gmtime, strftime\n",
    "import boto3\n",
    "from io import BytesIO\n",
    "from detectron2.utils.visualizer import Visualizer\n",
    "from detectron2.structures import Instances, Boxes\n",
    "\n",
    "import torch\n",
    "import cv2\n",
    "import pickle\n",
    "import os"
   ]
  },
  {
   "cell_type": "code",
   "execution_count": 2,
   "metadata": {},
   "outputs": [],
   "source": [
    "# consts\n",
    "region = 'us-east-2'\n",
    "n = 'deploy'\n",
    "model_name = f\"d2-{n}\"\n",
    "endpoint_name = f\"d2-{n}\"\n",
    "sm_role_str = \"20240202T235774\" # Sagemaker Role String ending\n",
    "profile_name = \"AWSAdministratorAccess-582955302549\"\n",
    "\n",
    "# Update this with the model output location `model.tar.gz` file\n",
    "model_url =  r\"s3://sagemaker-blueberry-test/test_model.tar.gz\" # Should look like s3://PATH_TO_OUTPUT/model.tar.gz\n"
   ]
  },
  {
   "cell_type": "code",
   "execution_count": 3,
   "metadata": {},
   "outputs": [],
   "source": [
    "# Get user details\n",
    "\n",
    "# Run command: aws configure sso and configure to run the code in local\n",
    "boto_session = boto3.Session(profile_name=profile_name)\n",
    "session = sagemaker.Session(boto_session=boto_session)"
   ]
  },
  {
   "cell_type": "code",
   "execution_count": 4,
   "metadata": {},
   "outputs": [
    {
     "name": "stdout",
     "output_type": "stream",
     "text": [
      "{'Path': '/service-role/', 'RoleName': 'AmazonSageMaker-ExecutionRole-20240202T235774', 'RoleId': 'AROAYPOWX72K77S7BDQ6Q', 'Arn': 'arn:aws:iam::582955302549:role/service-role/AmazonSageMaker-ExecutionRole-20240202T235774', 'CreateDate': datetime.datetime(2024, 2, 3, 4, 57, 35, tzinfo=tzutc()), 'AssumeRolePolicyDocument': {'Version': '2012-10-17', 'Statement': [{'Effect': 'Allow', 'Principal': {'Service': 'sagemaker.amazonaws.com'}, 'Action': 'sts:AssumeRole'}]}, 'Description': 'SageMaker execution role created from the SageMaker AWS Management Console.', 'MaxSessionDuration': 3600}\n"
     ]
    }
   ],
   "source": [
    "def get_sagemaker_role(session,filter_str):\n",
    "    filter_str = str(filter_str)\n",
    "    client = session.client('iam')\n",
    "    # Initialize pagination\n",
    "    paginator = client.get_paginator('list_roles')\n",
    "    filtered_roles = []\n",
    "    # Iterate through each page of roles\n",
    "    for page in paginator.paginate():\n",
    "        # Check each role for the filter string\n",
    "        for role in page['Roles']:\n",
    "            if filter_str in role['RoleName']:\n",
    "                return role\n",
    "        raise Exception(\"The role with the string \"+filter_str+\" doesn't exist\")\n",
    "\n",
    "# Filter roles by a specific substring\n",
    "filter_string = \"20240202T235774\" # Sagemaker Role String ending\n",
    "filtered_roles = get_sagemaker_role(boto_session,filter_string)\n",
    "print(filtered_roles)"
   ]
  },
  {
   "cell_type": "code",
   "execution_count": 8,
   "metadata": {},
   "outputs": [],
   "source": [
    "role = get_sagemaker_role(boto_session,sm_role_str)\n",
    "account = boto_session.client('sts').get_caller_identity()['Account']"
   ]
  },
  {
   "cell_type": "code",
   "execution_count": 9,
   "metadata": {},
   "outputs": [],
   "source": [
    "def json_to_d2(pred_dict, device):\n",
    "    \"\"\"\n",
    "    Client side helper function to deserialize the JSON msg back to d2 outputs\n",
    "    \"\"\"\n",
    "\n",
    "    # pred_dict = json.loads(predictions)\n",
    "    for k, v in pred_dict.items():\n",
    "        if k==\"pred_boxes\":\n",
    "            boxes_to_tensor = torch.FloatTensor(v).to(device)\n",
    "            pred_dict[k] = Boxes(boxes_to_tensor)\n",
    "        if k==\"scores\":\n",
    "            pred_dict[k] = torch.Tensor(v).to(device)\n",
    "        if k==\"pred_classes\":\n",
    "            pred_dict[k] = torch.Tensor(v).to(device).to(torch.uint8)\n",
    "\n",
    "    height, width = pred_dict['image_size']\n",
    "    del pred_dict['image_size']\n",
    "\n",
    "    inst = Instances((height, width,), **pred_dict)\n",
    "\n",
    "    return {'instances':inst}"
   ]
  },
  {
   "cell_type": "code",
   "execution_count": 10,
   "metadata": {},
   "outputs": [],
   "source": [
    "remote_model = PyTorchModel(\n",
    "                     name = model_name,\n",
    "                     model_data=model_url,\n",
    "                     role=role,\n",
    "                     sagemaker_session = session,\n",
    "                     entry_point=r\".\\test_model\\code\\inference.py\",\n",
    "                     # image=image,\n",
    "                     framework_version=\"2.1\",\n",
    "                     py_version='py310'\n",
    "                    )\n"
   ]
  },
  {
   "cell_type": "code",
   "execution_count": 15,
   "metadata": {},
   "outputs": [
    {
     "name": "stderr",
     "output_type": "stream",
     "text": [
      "update_endpoint is a no-op in sagemaker>=2.\n",
      "See: https://sagemaker.readthedocs.io/en/stable/v2.html for details.\n"
     ]
    },
    {
     "ename": "KeyboardInterrupt",
     "evalue": "",
     "output_type": "error",
     "traceback": [
      "\u001b[1;31m---------------------------------------------------------------------------\u001b[0m",
      "\u001b[1;31mFileNotFoundError\u001b[0m                         Traceback (most recent call last)",
      "File \u001b[1;32mc:\\Users\\sasan\\AppData\\Local\\Programs\\Python\\Python312\\Lib\\pathlib.py:860\u001b[0m, in \u001b[0;36mPath.exists\u001b[1;34m(self, follow_symlinks)\u001b[0m\n\u001b[0;32m    859\u001b[0m \u001b[38;5;28;01mtry\u001b[39;00m:\n\u001b[1;32m--> 860\u001b[0m     \u001b[38;5;28;43mself\u001b[39;49m\u001b[38;5;241;43m.\u001b[39;49m\u001b[43mstat\u001b[49m\u001b[43m(\u001b[49m\u001b[43mfollow_symlinks\u001b[49m\u001b[38;5;241;43m=\u001b[39;49m\u001b[43mfollow_symlinks\u001b[49m\u001b[43m)\u001b[49m\n\u001b[0;32m    861\u001b[0m \u001b[38;5;28;01mexcept\u001b[39;00m \u001b[38;5;167;01mOSError\u001b[39;00m \u001b[38;5;28;01mas\u001b[39;00m e:\n",
      "File \u001b[1;32mc:\\Users\\sasan\\AppData\\Local\\Programs\\Python\\Python312\\Lib\\pathlib.py:840\u001b[0m, in \u001b[0;36mPath.stat\u001b[1;34m(self, follow_symlinks)\u001b[0m\n\u001b[0;32m    836\u001b[0m \u001b[38;5;250m\u001b[39m\u001b[38;5;124;03m\"\"\"\u001b[39;00m\n\u001b[0;32m    837\u001b[0m \u001b[38;5;124;03mReturn the result of the stat() system call on this path, like\u001b[39;00m\n\u001b[0;32m    838\u001b[0m \u001b[38;5;124;03mos.stat() does.\u001b[39;00m\n\u001b[0;32m    839\u001b[0m \u001b[38;5;124;03m\"\"\"\u001b[39;00m\n\u001b[1;32m--> 840\u001b[0m \u001b[38;5;28;01mreturn\u001b[39;00m \u001b[43mos\u001b[49m\u001b[38;5;241;43m.\u001b[39;49m\u001b[43mstat\u001b[49m\u001b[43m(\u001b[49m\u001b[38;5;28;43mself\u001b[39;49m\u001b[43m,\u001b[49m\u001b[43m \u001b[49m\u001b[43mfollow_symlinks\u001b[49m\u001b[38;5;241;43m=\u001b[39;49m\u001b[43mfollow_symlinks\u001b[49m\u001b[43m)\u001b[49m\n",
      "\u001b[1;31mFileNotFoundError\u001b[0m: [WinError 2] The system cannot find the file specified: 'c:\\\\.sagemaker-code-config'",
      "\nDuring handling of the above exception, another exception occurred:\n",
      "\u001b[1;31mKeyboardInterrupt\u001b[0m                         Traceback (most recent call last)",
      "Cell \u001b[1;32mIn[15], line 1\u001b[0m\n\u001b[1;32m----> 1\u001b[0m remote_predictor \u001b[38;5;241m=\u001b[39m \u001b[43mremote_model\u001b[49m\u001b[38;5;241;43m.\u001b[39;49m\u001b[43mdeploy\u001b[49m\u001b[43m(\u001b[49m\n\u001b[0;32m      2\u001b[0m \u001b[43m                         \u001b[49m\u001b[43minstance_type\u001b[49m\u001b[38;5;241;43m=\u001b[39;49m\u001b[38;5;124;43m'\u001b[39;49m\u001b[38;5;124;43mml.t3.medium\u001b[39;49m\u001b[38;5;124;43m'\u001b[39;49m\u001b[43m,\u001b[49m\n\u001b[0;32m      3\u001b[0m \u001b[43m                         \u001b[49m\u001b[43minitial_instance_count\u001b[49m\u001b[38;5;241;43m=\u001b[39;49m\u001b[38;5;241;43m1\u001b[39;49m\u001b[43m,\u001b[49m\n\u001b[0;32m      4\u001b[0m \u001b[43m                         \u001b[49m\u001b[43mupdate_endpoint\u001b[49m\u001b[43m \u001b[49m\u001b[38;5;241;43m=\u001b[39;49m\u001b[43m \u001b[49m\u001b[38;5;28;43;01mFalse\u001b[39;49;00m\u001b[43m,\u001b[49m\u001b[43m \u001b[49m\u001b[38;5;66;43;03m# comment or False if endpoint doesns't exist\u001b[39;49;00m\n\u001b[0;32m      5\u001b[0m \u001b[43m                         \u001b[49m\u001b[43mendpoint_name\u001b[49m\u001b[38;5;241;43m=\u001b[39;49m\u001b[43mendpoint_name\u001b[49m\u001b[43m,\u001b[49m\u001b[43m \u001b[49m\u001b[38;5;66;43;03m# define a unique endpoint name; if ommited, Sagemaker will generate it based on used container\u001b[39;49;00m\n\u001b[0;32m      6\u001b[0m \u001b[43m                         \u001b[49m\u001b[43mwait\u001b[49m\u001b[38;5;241;43m=\u001b[39;49m\u001b[38;5;28;43;01mFalse\u001b[39;49;00m\n\u001b[0;32m      7\u001b[0m \u001b[43m                         \u001b[49m\u001b[43m)\u001b[49m\n",
      "File \u001b[1;32mc:\\Users\\sasan\\AppData\\Local\\Programs\\Python\\Python312\\Lib\\site-packages\\sagemaker\\model.py:1610\u001b[0m, in \u001b[0;36mModel.deploy\u001b[1;34m(self, initial_instance_count, instance_type, serializer, deserializer, accelerator_type, endpoint_name, tags, kms_key, wait, data_capture_config, async_inference_config, serverless_inference_config, volume_size, model_data_download_timeout, container_startup_health_check_timeout, inference_recommendation_id, explainer_config, accept_eula, endpoint_logging, resources, endpoint_type, managed_instance_scaling, **kwargs)\u001b[0m\n\u001b[0;32m   1607\u001b[0m     \u001b[38;5;28;01mreturn\u001b[39;00m \u001b[38;5;28;01mNone\u001b[39;00m\n\u001b[0;32m   1609\u001b[0m \u001b[38;5;28;01melse\u001b[39;00m:  \u001b[38;5;66;03m# existing single model endpoint path\u001b[39;00m\n\u001b[1;32m-> 1610\u001b[0m     \u001b[38;5;28;43mself\u001b[39;49m\u001b[38;5;241;43m.\u001b[39;49m\u001b[43m_create_sagemaker_model\u001b[49m\u001b[43m(\u001b[49m\n\u001b[0;32m   1611\u001b[0m \u001b[43m        \u001b[49m\u001b[43minstance_type\u001b[49m\u001b[38;5;241;43m=\u001b[39;49m\u001b[43minstance_type\u001b[49m\u001b[43m,\u001b[49m\n\u001b[0;32m   1612\u001b[0m \u001b[43m        \u001b[49m\u001b[43maccelerator_type\u001b[49m\u001b[38;5;241;43m=\u001b[39;49m\u001b[43maccelerator_type\u001b[49m\u001b[43m,\u001b[49m\n\u001b[0;32m   1613\u001b[0m \u001b[43m        \u001b[49m\u001b[43mtags\u001b[49m\u001b[38;5;241;43m=\u001b[39;49m\u001b[43mtags\u001b[49m\u001b[43m,\u001b[49m\n\u001b[0;32m   1614\u001b[0m \u001b[43m        \u001b[49m\u001b[43mserverless_inference_config\u001b[49m\u001b[38;5;241;43m=\u001b[39;49m\u001b[43mserverless_inference_config\u001b[49m\u001b[43m,\u001b[49m\n\u001b[0;32m   1615\u001b[0m \u001b[43m    \u001b[49m\u001b[43m)\u001b[49m\n\u001b[0;32m   1616\u001b[0m     serverless_inference_config_dict \u001b[38;5;241m=\u001b[39m (\n\u001b[0;32m   1617\u001b[0m         serverless_inference_config\u001b[38;5;241m.\u001b[39m_to_request_dict() \u001b[38;5;28;01mif\u001b[39;00m is_serverless \u001b[38;5;28;01melse\u001b[39;00m \u001b[38;5;28;01mNone\u001b[39;00m\n\u001b[0;32m   1618\u001b[0m     )\n\u001b[0;32m   1619\u001b[0m     production_variant \u001b[38;5;241m=\u001b[39m sagemaker\u001b[38;5;241m.\u001b[39mproduction_variant(\n\u001b[0;32m   1620\u001b[0m         \u001b[38;5;28mself\u001b[39m\u001b[38;5;241m.\u001b[39mname,\n\u001b[0;32m   1621\u001b[0m         instance_type,\n\u001b[1;32m   (...)\u001b[0m\n\u001b[0;32m   1627\u001b[0m         container_startup_health_check_timeout\u001b[38;5;241m=\u001b[39mcontainer_startup_health_check_timeout,\n\u001b[0;32m   1628\u001b[0m     )\n",
      "File \u001b[1;32mc:\\Users\\sasan\\AppData\\Local\\Programs\\Python\\Python312\\Lib\\site-packages\\sagemaker\\model.py:914\u001b[0m, in \u001b[0;36mModel._create_sagemaker_model\u001b[1;34m(self, instance_type, accelerator_type, tags, serverless_inference_config, accept_eula)\u001b[0m\n\u001b[0;32m    900\u001b[0m \u001b[38;5;28mself\u001b[39m\u001b[38;5;241m.\u001b[39menv \u001b[38;5;241m=\u001b[39m resolve_nested_dict_value_from_config(\n\u001b[0;32m    901\u001b[0m     \u001b[38;5;28mself\u001b[39m\u001b[38;5;241m.\u001b[39menv,\n\u001b[0;32m    902\u001b[0m     [\u001b[38;5;124m\"\u001b[39m\u001b[38;5;124mEnvironment\u001b[39m\u001b[38;5;124m\"\u001b[39m],\n\u001b[0;32m    903\u001b[0m     MODEL_CONTAINERS_PATH,\n\u001b[0;32m    904\u001b[0m     sagemaker_session\u001b[38;5;241m=\u001b[39m\u001b[38;5;28mself\u001b[39m\u001b[38;5;241m.\u001b[39msagemaker_session,\n\u001b[0;32m    905\u001b[0m )\n\u001b[0;32m    906\u001b[0m create_model_args \u001b[38;5;241m=\u001b[39m \u001b[38;5;28mdict\u001b[39m(\n\u001b[0;32m    907\u001b[0m     name\u001b[38;5;241m=\u001b[39m\u001b[38;5;28mself\u001b[39m\u001b[38;5;241m.\u001b[39mname,\n\u001b[0;32m    908\u001b[0m     role\u001b[38;5;241m=\u001b[39m\u001b[38;5;28mself\u001b[39m\u001b[38;5;241m.\u001b[39mrole,\n\u001b[1;32m   (...)\u001b[0m\n\u001b[0;32m    912\u001b[0m     tags\u001b[38;5;241m=\u001b[39mformat_tags(tags),\n\u001b[0;32m    913\u001b[0m )\n\u001b[1;32m--> 914\u001b[0m \u001b[38;5;28;43mself\u001b[39;49m\u001b[38;5;241;43m.\u001b[39;49m\u001b[43msagemaker_session\u001b[49m\u001b[38;5;241;43m.\u001b[39;49m\u001b[43mcreate_model\u001b[49m\u001b[43m(\u001b[49m\u001b[38;5;241;43m*\u001b[39;49m\u001b[38;5;241;43m*\u001b[39;49m\u001b[43mcreate_model_args\u001b[49m\u001b[43m)\u001b[49m\n",
      "File \u001b[1;32mc:\\Users\\sasan\\AppData\\Local\\Programs\\Python\\Python312\\Lib\\site-packages\\sagemaker\\session.py:3842\u001b[0m, in \u001b[0;36mSession.create_model\u001b[1;34m(self, name, role, container_defs, vpc_config, enable_network_isolation, primary_container, tags)\u001b[0m\n\u001b[0;32m   3792\u001b[0m \u001b[38;5;28;01mdef\u001b[39;00m \u001b[38;5;21mcreate_model\u001b[39m(\n\u001b[0;32m   3793\u001b[0m     \u001b[38;5;28mself\u001b[39m,\n\u001b[0;32m   3794\u001b[0m     name,\n\u001b[1;32m   (...)\u001b[0m\n\u001b[0;32m   3800\u001b[0m     tags\u001b[38;5;241m=\u001b[39m\u001b[38;5;28;01mNone\u001b[39;00m,\n\u001b[0;32m   3801\u001b[0m ):\n\u001b[0;32m   3802\u001b[0m \u001b[38;5;250m    \u001b[39m\u001b[38;5;124;03m\"\"\"Create an Amazon SageMaker ``Model``.\u001b[39;00m\n\u001b[0;32m   3803\u001b[0m \n\u001b[0;32m   3804\u001b[0m \u001b[38;5;124;03m    Specify the S3 location of the model artifacts and Docker image containing\u001b[39;00m\n\u001b[1;32m   (...)\u001b[0m\n\u001b[0;32m   3840\u001b[0m \u001b[38;5;124;03m        str: Name of the Amazon SageMaker ``Model`` created.\u001b[39;00m\n\u001b[0;32m   3841\u001b[0m \u001b[38;5;124;03m    \"\"\"\u001b[39;00m\n\u001b[1;32m-> 3842\u001b[0m     tags \u001b[38;5;241m=\u001b[39m \u001b[43m_append_project_tags\u001b[49m\u001b[43m(\u001b[49m\u001b[43mformat_tags\u001b[49m\u001b[43m(\u001b[49m\u001b[43mtags\u001b[49m\u001b[43m)\u001b[49m\u001b[43m)\u001b[49m\n\u001b[0;32m   3843\u001b[0m     tags \u001b[38;5;241m=\u001b[39m \u001b[38;5;28mself\u001b[39m\u001b[38;5;241m.\u001b[39m_append_sagemaker_config_tags(tags, \u001b[38;5;124m\"\u001b[39m\u001b[38;5;132;01m{}\u001b[39;00m\u001b[38;5;124m.\u001b[39m\u001b[38;5;132;01m{}\u001b[39;00m\u001b[38;5;124m.\u001b[39m\u001b[38;5;132;01m{}\u001b[39;00m\u001b[38;5;124m\"\u001b[39m\u001b[38;5;241m.\u001b[39mformat(SAGEMAKER, MODEL, TAGS))\n\u001b[0;32m   3844\u001b[0m     role \u001b[38;5;241m=\u001b[39m resolve_value_from_config(\n\u001b[0;32m   3845\u001b[0m         role, MODEL_EXECUTION_ROLE_ARN_PATH, sagemaker_session\u001b[38;5;241m=\u001b[39m\u001b[38;5;28mself\u001b[39m\n\u001b[0;32m   3846\u001b[0m     )\n",
      "File \u001b[1;32mc:\\Users\\sasan\\AppData\\Local\\Programs\\Python\\Python312\\Lib\\site-packages\\sagemaker\\_studio.py:36\u001b[0m, in \u001b[0;36m_append_project_tags\u001b[1;34m(tags, working_dir)\u001b[0m\n\u001b[0;32m     26\u001b[0m \u001b[38;5;28;01mdef\u001b[39;00m \u001b[38;5;21m_append_project_tags\u001b[39m(tags\u001b[38;5;241m=\u001b[39m\u001b[38;5;28;01mNone\u001b[39;00m, working_dir\u001b[38;5;241m=\u001b[39m\u001b[38;5;28;01mNone\u001b[39;00m):\n\u001b[0;32m     27\u001b[0m \u001b[38;5;250m    \u001b[39m\u001b[38;5;124;03m\"\"\"Appends the project tag to the list of tags, if it exists.\u001b[39;00m\n\u001b[0;32m     28\u001b[0m \n\u001b[0;32m     29\u001b[0m \u001b[38;5;124;03m    Args:\u001b[39;00m\n\u001b[1;32m   (...)\u001b[0m\n\u001b[0;32m     34\u001b[0m \u001b[38;5;124;03m        A possibly extended list of tags that includes the project id.\u001b[39;00m\n\u001b[0;32m     35\u001b[0m \u001b[38;5;124;03m    \"\"\"\u001b[39;00m\n\u001b[1;32m---> 36\u001b[0m     path \u001b[38;5;241m=\u001b[39m \u001b[43m_find_config\u001b[49m\u001b[43m(\u001b[49m\u001b[43mworking_dir\u001b[49m\u001b[43m)\u001b[49m\n\u001b[0;32m     37\u001b[0m     \u001b[38;5;28;01mif\u001b[39;00m path \u001b[38;5;129;01mis\u001b[39;00m \u001b[38;5;28;01mNone\u001b[39;00m:\n\u001b[0;32m     38\u001b[0m         \u001b[38;5;28;01mreturn\u001b[39;00m tags\n",
      "File \u001b[1;32mc:\\Users\\sasan\\AppData\\Local\\Programs\\Python\\Python312\\Lib\\site-packages\\sagemaker\\_studio.py:70\u001b[0m, in \u001b[0;36m_find_config\u001b[1;34m(working_dir)\u001b[0m\n\u001b[0;32m     68\u001b[0m \u001b[38;5;28;01mwhile\u001b[39;00m path \u001b[38;5;129;01mis\u001b[39;00m \u001b[38;5;28;01mNone\u001b[39;00m \u001b[38;5;129;01mand\u001b[39;00m \u001b[38;5;129;01mnot\u001b[39;00m wd\u001b[38;5;241m.\u001b[39mmatch(\u001b[38;5;124m\"\u001b[39m\u001b[38;5;124m/\u001b[39m\u001b[38;5;124m\"\u001b[39m):\n\u001b[0;32m     69\u001b[0m     candidate \u001b[38;5;241m=\u001b[39m wd \u001b[38;5;241m/\u001b[39m STUDIO_PROJECT_CONFIG\n\u001b[1;32m---> 70\u001b[0m     \u001b[38;5;28;01mif\u001b[39;00m \u001b[43mPath\u001b[49m\u001b[38;5;241;43m.\u001b[39;49m\u001b[43mexists\u001b[49m\u001b[43m(\u001b[49m\u001b[43mcandidate\u001b[49m\u001b[43m)\u001b[49m:\n\u001b[0;32m     71\u001b[0m         path \u001b[38;5;241m=\u001b[39m candidate\n\u001b[0;32m     72\u001b[0m     wd \u001b[38;5;241m=\u001b[39m wd\u001b[38;5;241m.\u001b[39mparent\n",
      "File \u001b[1;32mc:\\Users\\sasan\\AppData\\Local\\Programs\\Python\\Python312\\Lib\\pathlib.py:862\u001b[0m, in \u001b[0;36mPath.exists\u001b[1;34m(self, follow_symlinks)\u001b[0m\n\u001b[0;32m    860\u001b[0m     \u001b[38;5;28mself\u001b[39m\u001b[38;5;241m.\u001b[39mstat(follow_symlinks\u001b[38;5;241m=\u001b[39mfollow_symlinks)\n\u001b[0;32m    861\u001b[0m \u001b[38;5;28;01mexcept\u001b[39;00m \u001b[38;5;167;01mOSError\u001b[39;00m \u001b[38;5;28;01mas\u001b[39;00m e:\n\u001b[1;32m--> 862\u001b[0m     \u001b[38;5;28;01mif\u001b[39;00m \u001b[38;5;129;01mnot\u001b[39;00m \u001b[43m_ignore_error\u001b[49m\u001b[43m(\u001b[49m\u001b[43me\u001b[49m\u001b[43m)\u001b[49m:\n\u001b[0;32m    863\u001b[0m         \u001b[38;5;28;01mraise\u001b[39;00m\n\u001b[0;32m    864\u001b[0m     \u001b[38;5;28;01mreturn\u001b[39;00m \u001b[38;5;28;01mFalse\u001b[39;00m\n",
      "File \u001b[1;32mc:\\Users\\sasan\\AppData\\Local\\Programs\\Python\\Python312\\Lib\\pathlib.py:52\u001b[0m, in \u001b[0;36m_ignore_error\u001b[1;34m(exception)\u001b[0m\n\u001b[0;32m     45\u001b[0m _IGNORED_ERRNOS \u001b[38;5;241m=\u001b[39m (ENOENT, ENOTDIR, EBADF, ELOOP)\n\u001b[0;32m     47\u001b[0m _IGNORED_WINERRORS \u001b[38;5;241m=\u001b[39m (\n\u001b[0;32m     48\u001b[0m     _WINERROR_NOT_READY,\n\u001b[0;32m     49\u001b[0m     _WINERROR_INVALID_NAME,\n\u001b[0;32m     50\u001b[0m     _WINERROR_CANT_RESOLVE_FILENAME)\n\u001b[1;32m---> 52\u001b[0m \u001b[38;5;28;01mdef\u001b[39;00m \u001b[38;5;21m_ignore_error\u001b[39m(exception):\n\u001b[0;32m     53\u001b[0m     \u001b[38;5;28;01mreturn\u001b[39;00m (\u001b[38;5;28mgetattr\u001b[39m(exception, \u001b[38;5;124m'\u001b[39m\u001b[38;5;124merrno\u001b[39m\u001b[38;5;124m'\u001b[39m, \u001b[38;5;28;01mNone\u001b[39;00m) \u001b[38;5;129;01min\u001b[39;00m _IGNORED_ERRNOS \u001b[38;5;129;01mor\u001b[39;00m\n\u001b[0;32m     54\u001b[0m             \u001b[38;5;28mgetattr\u001b[39m(exception, \u001b[38;5;124m'\u001b[39m\u001b[38;5;124mwinerror\u001b[39m\u001b[38;5;124m'\u001b[39m, \u001b[38;5;28;01mNone\u001b[39;00m) \u001b[38;5;129;01min\u001b[39;00m _IGNORED_WINERRORS)\n\u001b[0;32m     57\u001b[0m \u001b[38;5;129m@functools\u001b[39m\u001b[38;5;241m.\u001b[39mcache\n\u001b[0;32m     58\u001b[0m \u001b[38;5;28;01mdef\u001b[39;00m \u001b[38;5;21m_is_case_sensitive\u001b[39m(flavour):\n",
      "\u001b[1;31mKeyboardInterrupt\u001b[0m: "
     ]
    }
   ],
   "source": [
    "\n",
    "remote_predictor = remote_model.deploy(\n",
    "                         instance_type='ml.t3.medium',\n",
    "                         initial_instance_count=1,\n",
    "                         update_endpoint = False, # comment or False if endpoint doesns't exist\n",
    "                         endpoint_name=endpoint_name, # define a unique endpoint name; if ommited, Sagemaker will generate it based on used container\n",
    "                         wait=False\n",
    "                         )\n"
   ]
  },
  {
   "cell_type": "code",
   "execution_count": null,
   "metadata": {},
   "outputs": [],
   "source": [
    "client = boto_session.client('sagemaker-runtime')\n",
    "\n",
    "accept_type = \"json\"\n",
    "content_type = 'image/jpeg'\n",
    "headers = {'content-type': content_type}\n",
    "device = \"cpu\" # cuda:0 for GPU, cpu for CPU\n",
    "classID_name = {\n",
    "    1: 'Blueberry'\n",
    "}\n",
    "test_pics_dir = '<PATH_TO_SOME_TEST_IMGS>'\n",
    "\n",
    "for img_ in os.listdir(test_pics_dir):\n",
    "\n",
    "    img_name = test_pics_dir + img_\n",
    "    print(img_name)\n",
    "\n",
    "    payload = open(img_name, 'rb')\n",
    "    device = \"cpu\"\n",
    "\n",
    "    response = client.invoke_endpoint(\n",
    "        EndpointName=endpoint_name,\n",
    "        Body=payload,\n",
    "        ContentType=content_type,\n",
    "        Accept = accept_type\n",
    "    )\n",
    "\n",
    "    if accept_type==\"json\":\n",
    "        predictions = json_to_d2(response['Body'].read(), device)\n",
    "    elif accept_type==\"detectron2\":\n",
    "        print(response['Body'].read())\n",
    "        stream = BytesIO(response['Body'].read())\n",
    "        predictions = pickle.loads(stream.read())\n",
    "\n",
    "    # Extract preds:\n",
    "    preds = predictions[\"instances\"].to(\"cpu\")\n",
    "    boxes = preds.pred_boxes.tensor.numpy()\n",
    "    scores = preds.scores.tolist()\n",
    "    classes = preds.pred_classes.tolist()\n",
    "\n",
    "    for i in range(len(boxes)):\n",
    "        left, top, right, bot = boxes[i] #x0, y0, x1, y1\n",
    "        print(f'DETECTED: {classID_name[classes[i]]}, confidence: {scores[i]}, box: {int(left)} {int(top)} {int(right)} {int(bot)}\\n') # left top right bot\n",
    "\n",
    "    # visualize\n",
    "    im = cv2.imread(img_name)\n",
    "    v = Visualizer(im[:, :, ::-1],\n",
    "                   metadata=\"train\", # Extracted from Visualizer.get() code\n",
    "                   scale=0.8)\n",
    "    out = v.draw_instance_predictions(predictions[\"instances\"].to(\"cpu\"))\n",
    "    cv2.imshow(out.get_image()[:, :, ::-1])\n"
   ]
  },
  {
   "cell_type": "code",
   "execution_count": null,
   "metadata": {},
   "outputs": [],
   "source": [
    "from detectron2.config import get_cfg\n",
    "cfg = get_cfg()    # obtain detectron2's default config\n",
    "# cfg.xxx = yyy      # add new configs for your own custom components\n",
    "# cfg.merge_from_file(\"my_cfg.yaml\")   # load values from a file\n",
    "\n",
    "cfg.merge_from_list([\"MODEL.WEIGHTS\", \"C:\\Users\\sasan\\OneDrive\\Desktop\\CSC630\\aros-blueberry\\test_model\\model_final.pth\"])   # can also load values from a list of str\n",
    "print(cfg.dump())  # print formatted configs\n",
    "with open(\"output.yaml\", \"w\") as f:\n",
    "  f.write(cfg.dump())   # save config to file"
   ]
  }
 ],
 "metadata": {
  "kernelspec": {
   "display_name": "Python 3",
   "language": "python",
   "name": "python3"
  },
  "language_info": {
   "codemirror_mode": {
    "name": "ipython",
    "version": 3
   },
   "file_extension": ".py",
   "mimetype": "text/x-python",
   "name": "python",
   "nbconvert_exporter": "python",
   "pygments_lexer": "ipython3",
   "version": "3.12.4"
  }
 },
 "nbformat": 4,
 "nbformat_minor": 2
}
