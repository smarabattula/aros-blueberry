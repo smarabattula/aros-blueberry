{
 "cells": [
  {
   "cell_type": "code",
   "execution_count": 1,
   "metadata": {},
   "outputs": [],
   "source": [
    "from ultralytics import YOLO\n",
    "\n",
    "import torch\n",
    "import os\n",
    "\n",
    "import numpy as np\n",
    "import pandas as pd\n",
    "\n",
    "from matplotlib import pyplot as plt # import matplotlib.pyplot as plt"
   ]
  },
  {
   "cell_type": "code",
   "execution_count": 2,
   "metadata": {},
   "outputs": [
    {
     "name": "stdout",
     "output_type": "stream",
     "text": [
      "Collecting ultralytics\n",
      "  Downloading ultralytics-8.1.6-py3-none-any.whl.metadata (40 kB)\n",
      "     ---------------------------------------- 0.0/40.2 kB ? eta -:--:--\n",
      "     ------------------- ------------------ 20.5/40.2 kB 330.3 kB/s eta 0:00:01\n",
      "     -------------------------------------- 40.2/40.2 kB 384.2 kB/s eta 0:00:00\n",
      "Collecting numpy\n",
      "  Downloading numpy-1.26.3-cp311-cp311-win_amd64.whl.metadata (61 kB)\n",
      "     ---------------------------------------- 0.0/61.2 kB ? eta -:--:--\n",
      "     ---------------------------------------- 61.2/61.2 kB 1.6 MB/s eta 0:00:00\n",
      "Collecting pandas\n",
      "  Downloading pandas-2.2.0-cp311-cp311-win_amd64.whl.metadata (19 kB)\n",
      "Collecting torch\n",
      "  Downloading torch-2.1.2-cp311-cp311-win_amd64.whl.metadata (26 kB)\n",
      "Collecting matplotlib\n",
      "  Downloading matplotlib-3.8.2-cp311-cp311-win_amd64.whl.metadata (5.9 kB)\n",
      "Collecting opencv-python>=4.6.0 (from ultralytics)\n",
      "  Downloading opencv_python-4.9.0.80-cp37-abi3-win_amd64.whl.metadata (20 kB)\n",
      "Collecting pillow>=7.1.2 (from ultralytics)\n",
      "  Downloading pillow-10.2.0-cp311-cp311-win_amd64.whl.metadata (9.9 kB)\n",
      "Collecting pyyaml>=5.3.1 (from ultralytics)\n",
      "  Downloading PyYAML-6.0.1-cp311-cp311-win_amd64.whl.metadata (2.1 kB)\n",
      "Collecting requests>=2.23.0 (from ultralytics)\n",
      "  Using cached requests-2.31.0-py3-none-any.whl.metadata (4.6 kB)\n",
      "Collecting scipy>=1.4.1 (from ultralytics)\n",
      "  Downloading scipy-1.12.0-cp311-cp311-win_amd64.whl.metadata (60 kB)\n",
      "     ---------------------------------------- 0.0/60.4 kB ? eta -:--:--\n",
      "     ---------------------------------------- 60.4/60.4 kB 1.6 MB/s eta 0:00:00\n",
      "Collecting torchvision>=0.9.0 (from ultralytics)\n",
      "  Downloading torchvision-0.16.2-cp311-cp311-win_amd64.whl.metadata (6.6 kB)\n",
      "Collecting tqdm>=4.64.0 (from ultralytics)\n",
      "  Using cached tqdm-4.66.1-py3-none-any.whl.metadata (57 kB)\n",
      "Requirement already satisfied: psutil in c:\\users\\sasan\\onedrive\\desktop\\csc630\\.venv\\lib\\site-packages (from ultralytics) (5.9.8)\n",
      "Collecting py-cpuinfo (from ultralytics)\n",
      "  Downloading py_cpuinfo-9.0.0-py3-none-any.whl (22 kB)\n",
      "Collecting thop>=0.1.1 (from ultralytics)\n",
      "  Downloading thop-0.1.1.post2209072238-py3-none-any.whl (15 kB)\n",
      "Collecting seaborn>=0.11.0 (from ultralytics)\n",
      "  Downloading seaborn-0.13.2-py3-none-any.whl.metadata (5.4 kB)\n",
      "Requirement already satisfied: python-dateutil>=2.8.2 in c:\\users\\sasan\\onedrive\\desktop\\csc630\\.venv\\lib\\site-packages (from pandas) (2.8.2)\n",
      "Collecting pytz>=2020.1 (from pandas)\n",
      "  Downloading pytz-2023.3.post1-py2.py3-none-any.whl.metadata (22 kB)\n",
      "Collecting tzdata>=2022.7 (from pandas)\n",
      "  Downloading tzdata-2023.4-py2.py3-none-any.whl.metadata (1.4 kB)\n",
      "Collecting filelock (from torch)\n",
      "  Downloading filelock-3.13.1-py3-none-any.whl.metadata (2.8 kB)\n",
      "Collecting typing-extensions (from torch)\n",
      "  Downloading typing_extensions-4.9.0-py3-none-any.whl.metadata (3.0 kB)\n",
      "Collecting sympy (from torch)\n",
      "  Downloading sympy-1.12-py3-none-any.whl (5.7 MB)\n",
      "     ---------------------------------------- 0.0/5.7 MB ? eta -:--:--\n",
      "      --------------------------------------- 0.1/5.7 MB 2.6 MB/s eta 0:00:03\n",
      "     - -------------------------------------- 0.2/5.7 MB 2.1 MB/s eta 0:00:03\n",
      "     -- ------------------------------------- 0.3/5.7 MB 2.4 MB/s eta 0:00:03\n",
      "     --- ------------------------------------ 0.4/5.7 MB 2.5 MB/s eta 0:00:03\n",
      "     --- ------------------------------------ 0.6/5.7 MB 2.5 MB/s eta 0:00:03\n",
      "     ---- ----------------------------------- 0.7/5.7 MB 2.6 MB/s eta 0:00:02\n",
      "     ----- ---------------------------------- 0.8/5.7 MB 2.7 MB/s eta 0:00:02\n",
      "     ------ --------------------------------- 1.0/5.7 MB 2.7 MB/s eta 0:00:02\n",
      "     -------- ------------------------------- 1.2/5.7 MB 2.8 MB/s eta 0:00:02\n",
      "     --------- ------------------------------ 1.3/5.7 MB 2.9 MB/s eta 0:00:02\n",
      "     ---------- ----------------------------- 1.5/5.7 MB 3.0 MB/s eta 0:00:02\n",
      "     ----------- ---------------------------- 1.7/5.7 MB 3.1 MB/s eta 0:00:02\n",
      "     ------------- -------------------------- 1.9/5.7 MB 3.2 MB/s eta 0:00:02\n",
      "     -------------- ------------------------- 2.1/5.7 MB 3.2 MB/s eta 0:00:02\n",
      "     --------------- ------------------------ 2.3/5.7 MB 3.3 MB/s eta 0:00:02\n",
      "     ----------------- ---------------------- 2.5/5.7 MB 3.4 MB/s eta 0:00:01\n",
      "     ------------------- -------------------- 2.8/5.7 MB 3.6 MB/s eta 0:00:01\n",
      "     --------------------- ------------------ 3.1/5.7 MB 3.7 MB/s eta 0:00:01\n",
      "     ----------------------- ---------------- 3.4/5.7 MB 3.8 MB/s eta 0:00:01\n",
      "     ------------------------- -------------- 3.7/5.7 MB 4.0 MB/s eta 0:00:01\n",
      "     --------------------------- ------------ 4.0/5.7 MB 4.1 MB/s eta 0:00:01\n",
      "     ------------------------------ --------- 4.4/5.7 MB 4.3 MB/s eta 0:00:01\n",
      "     --------------------------------- ------ 4.7/5.7 MB 4.5 MB/s eta 0:00:01\n",
      "     ------------------------------------ --- 5.2/5.7 MB 4.7 MB/s eta 0:00:01\n",
      "     ---------------------------------------  5.6/5.7 MB 4.8 MB/s eta 0:00:01\n",
      "     ---------------------------------------- 5.7/5.7 MB 4.8 MB/s eta 0:00:00\n",
      "Collecting networkx (from torch)\n",
      "  Downloading networkx-3.2.1-py3-none-any.whl.metadata (5.2 kB)\n",
      "Collecting jinja2 (from torch)\n",
      "  Downloading Jinja2-3.1.3-py3-none-any.whl.metadata (3.3 kB)\n",
      "Collecting fsspec (from torch)\n",
      "  Downloading fsspec-2023.12.2-py3-none-any.whl.metadata (6.8 kB)\n",
      "Collecting contourpy>=1.0.1 (from matplotlib)\n",
      "  Downloading contourpy-1.2.0-cp311-cp311-win_amd64.whl.metadata (5.8 kB)\n",
      "Collecting cycler>=0.10 (from matplotlib)\n",
      "  Downloading cycler-0.12.1-py3-none-any.whl.metadata (3.8 kB)\n",
      "Collecting fonttools>=4.22.0 (from matplotlib)\n",
      "  Downloading fonttools-4.47.2-cp311-cp311-win_amd64.whl.metadata (160 kB)\n",
      "     ---------------------------------------- 0.0/160.8 kB ? eta -:--:--\n",
      "     -------------------------------------- 160.8/160.8 kB 9.4 MB/s eta 0:00:00\n",
      "Collecting kiwisolver>=1.3.1 (from matplotlib)\n",
      "  Downloading kiwisolver-1.4.5-cp311-cp311-win_amd64.whl.metadata (6.5 kB)\n",
      "Requirement already satisfied: packaging>=20.0 in c:\\users\\sasan\\onedrive\\desktop\\csc630\\.venv\\lib\\site-packages (from matplotlib) (23.2)\n",
      "Collecting pyparsing>=2.3.1 (from matplotlib)\n",
      "  Downloading pyparsing-3.1.1-py3-none-any.whl.metadata (5.1 kB)\n",
      "Requirement already satisfied: six>=1.5 in c:\\users\\sasan\\onedrive\\desktop\\csc630\\.venv\\lib\\site-packages (from python-dateutil>=2.8.2->pandas) (1.16.0)\n",
      "Collecting charset-normalizer<4,>=2 (from requests>=2.23.0->ultralytics)\n",
      "  Using cached charset_normalizer-3.3.2-cp311-cp311-win_amd64.whl.metadata (34 kB)\n",
      "Collecting idna<4,>=2.5 (from requests>=2.23.0->ultralytics)\n",
      "  Downloading idna-3.6-py3-none-any.whl.metadata (9.9 kB)\n",
      "Collecting urllib3<3,>=1.21.1 (from requests>=2.23.0->ultralytics)\n",
      "  Downloading urllib3-2.1.0-py3-none-any.whl.metadata (6.4 kB)\n",
      "Collecting certifi>=2017.4.17 (from requests>=2.23.0->ultralytics)\n",
      "  Downloading certifi-2023.11.17-py3-none-any.whl.metadata (2.2 kB)\n",
      "Requirement already satisfied: colorama in c:\\users\\sasan\\onedrive\\desktop\\csc630\\.venv\\lib\\site-packages (from tqdm>=4.64.0->ultralytics) (0.4.6)\n",
      "Collecting MarkupSafe>=2.0 (from jinja2->torch)\n",
      "  Downloading MarkupSafe-2.1.4-cp311-cp311-win_amd64.whl.metadata (3.1 kB)\n",
      "Collecting mpmath>=0.19 (from sympy->torch)\n",
      "  Downloading mpmath-1.3.0-py3-none-any.whl (536 kB)\n",
      "     ---------------------------------------- 0.0/536.2 kB ? eta -:--:--\n",
      "     -------------------------------- ----- 460.8/536.2 kB 9.6 MB/s eta 0:00:01\n",
      "     -------------------------------------- 536.2/536.2 kB 8.3 MB/s eta 0:00:00\n",
      "Downloading ultralytics-8.1.6-py3-none-any.whl (705 kB)\n",
      "   ---------------------------------------- 0.0/705.0 kB ? eta -:--:--\n",
      "   ----------------------- --------------- 430.1/705.0 kB 13.5 MB/s eta 0:00:01\n",
      "   --------------------------------------- 705.0/705.0 kB 11.2 MB/s eta 0:00:00\n",
      "Downloading numpy-1.26.3-cp311-cp311-win_amd64.whl (15.8 MB)\n",
      "   ---------------------------------------- 0.0/15.8 MB ? eta -:--:--\n",
      "   - -------------------------------------- 0.7/15.8 MB 13.7 MB/s eta 0:00:02\n",
      "   --- ------------------------------------ 1.3/15.8 MB 13.4 MB/s eta 0:00:02\n",
      "   ---- ----------------------------------- 1.9/15.8 MB 13.4 MB/s eta 0:00:02\n",
      "   ------ --------------------------------- 2.6/15.8 MB 14.0 MB/s eta 0:00:01\n",
      "   -------- ------------------------------- 3.4/15.8 MB 14.4 MB/s eta 0:00:01\n",
      "   -------- ------------------------------- 3.5/15.8 MB 12.3 MB/s eta 0:00:02\n",
      "   ---------- ----------------------------- 4.2/15.8 MB 12.7 MB/s eta 0:00:01\n",
      "   ------------ --------------------------- 5.0/15.8 MB 13.3 MB/s eta 0:00:01\n",
      "   -------------- ------------------------- 5.9/15.8 MB 13.9 MB/s eta 0:00:01\n",
      "   ----------------- ---------------------- 6.7/15.8 MB 14.4 MB/s eta 0:00:01\n",
      "   ------------------ --------------------- 7.5/15.8 MB 14.9 MB/s eta 0:00:01\n",
      "   --------------------- ------------------ 8.4/15.8 MB 14.9 MB/s eta 0:00:01\n",
      "   ------------------------ --------------- 9.5/15.8 MB 16.1 MB/s eta 0:00:01\n",
      "   -------------------------- ------------- 10.6/15.8 MB 16.4 MB/s eta 0:00:01\n",
      "   ----------------------------- ---------- 11.7/15.8 MB 17.7 MB/s eta 0:00:01\n",
      "   -------------------------------- ------- 12.9/15.8 MB 18.7 MB/s eta 0:00:01\n",
      "   ------------------------------------ --- 14.3/15.8 MB 21.8 MB/s eta 0:00:01\n",
      "   ---------------------------------------  15.8/15.8 MB 24.2 MB/s eta 0:00:01\n",
      "   ---------------------------------------- 15.8/15.8 MB 21.8 MB/s eta 0:00:00\n",
      "Downloading pandas-2.2.0-cp311-cp311-win_amd64.whl (11.6 MB)\n",
      "   ---------------------------------------- 0.0/11.6 MB ? eta -:--:--\n",
      "   --- ------------------------------------ 1.1/11.6 MB 35.3 MB/s eta 0:00:01\n",
      "   -------- ------------------------------- 2.6/11.6 MB 33.0 MB/s eta 0:00:01\n",
      "   -------------- ------------------------- 4.3/11.6 MB 30.5 MB/s eta 0:00:01\n",
      "   ------------------- -------------------- 5.5/11.6 MB 32.0 MB/s eta 0:00:01\n",
      "   ------------------------- -------------- 7.3/11.6 MB 33.3 MB/s eta 0:00:01\n",
      "   ------------------------------- -------- 9.0/11.6 MB 33.9 MB/s eta 0:00:01\n",
      "   ------------------------------------ --- 10.6/11.6 MB 34.6 MB/s eta 0:00:01\n",
      "   ---------------------------------------  11.6/11.6 MB 34.4 MB/s eta 0:00:01\n",
      "   ---------------------------------------- 11.6/11.6 MB 31.2 MB/s eta 0:00:00\n",
      "Downloading torch-2.1.2-cp311-cp311-win_amd64.whl (192.3 MB)\n",
      "   ---------------------------------------- 0.0/192.3 MB ? eta -:--:--\n",
      "    --------------------------------------- 2.4/192.3 MB 51.6 MB/s eta 0:00:04\n",
      "    --------------------------------------- 4.3/192.3 MB 55.0 MB/s eta 0:00:04\n",
      "   - -------------------------------------- 6.9/192.3 MB 48.9 MB/s eta 0:00:04\n",
      "   - -------------------------------------- 8.5/192.3 MB 45.3 MB/s eta 0:00:05\n",
      "   -- ------------------------------------- 11.1/192.3 MB 43.7 MB/s eta 0:00:05\n",
      "   -- ------------------------------------- 13.4/192.3 MB 46.9 MB/s eta 0:00:04\n",
      "   --- ------------------------------------ 15.8/192.3 MB 50.4 MB/s eta 0:00:04\n",
      "   --- ------------------------------------ 17.6/192.3 MB 43.5 MB/s eta 0:00:05\n",
      "   ---- ----------------------------------- 19.6/192.3 MB 43.5 MB/s eta 0:00:04\n",
      "   ---- ----------------------------------- 22.4/192.3 MB 46.7 MB/s eta 0:00:04\n",
      "   ----- ---------------------------------- 24.7/192.3 MB 46.9 MB/s eta 0:00:04\n",
      "   ----- ---------------------------------- 27.3/192.3 MB 54.4 MB/s eta 0:00:04\n",
      "   ------ --------------------------------- 29.6/192.3 MB 50.4 MB/s eta 0:00:04\n",
      "   ------ --------------------------------- 31.8/192.3 MB 50.4 MB/s eta 0:00:04\n",
      "   ------- -------------------------------- 34.1/192.3 MB 50.4 MB/s eta 0:00:04\n",
      "   ------- -------------------------------- 36.6/192.3 MB 46.7 MB/s eta 0:00:04\n",
      "   -------- ------------------------------- 38.9/192.3 MB 50.4 MB/s eta 0:00:04\n",
      "   -------- ------------------------------- 41.3/192.3 MB 50.1 MB/s eta 0:00:04\n",
      "   --------- ------------------------------ 43.4/192.3 MB 54.4 MB/s eta 0:00:03\n",
      "   --------- ------------------------------ 45.9/192.3 MB 50.4 MB/s eta 0:00:03\n",
      "   ---------- ----------------------------- 48.9/192.3 MB 54.4 MB/s eta 0:00:03\n",
      "   ---------- ----------------------------- 51.8/192.3 MB 54.7 MB/s eta 0:00:03\n",
      "   ----------- ---------------------------- 55.1/192.3 MB 65.6 MB/s eta 0:00:03\n",
      "   ------------ --------------------------- 57.8/192.3 MB 65.6 MB/s eta 0:00:03\n",
      "   ------------ --------------------------- 61.3/192.3 MB 72.6 MB/s eta 0:00:02\n",
      "   ------------- -------------------------- 64.2/192.3 MB 72.6 MB/s eta 0:00:02\n",
      "   ------------- -------------------------- 67.2/192.3 MB 72.6 MB/s eta 0:00:02\n",
      "   -------------- ------------------------- 70.7/192.3 MB 72.6 MB/s eta 0:00:02\n",
      "   --------------- ------------------------ 72.6/192.3 MB 59.5 MB/s eta 0:00:03\n",
      "   --------------- ------------------------ 75.6/192.3 MB 65.6 MB/s eta 0:00:02\n",
      "   ---------------- ----------------------- 78.2/192.3 MB 59.5 MB/s eta 0:00:02\n",
      "   ---------------- ----------------------- 81.2/192.3 MB 59.5 MB/s eta 0:00:02\n",
      "   ----------------- ---------------------- 84.0/192.3 MB 65.6 MB/s eta 0:00:02\n",
      "   ------------------ --------------------- 87.9/192.3 MB 65.6 MB/s eta 0:00:02\n",
      "   ------------------ --------------------- 91.1/192.3 MB 72.6 MB/s eta 0:00:02\n",
      "   ------------------- -------------------- 93.9/192.3 MB 72.6 MB/s eta 0:00:02\n",
      "   -------------------- ------------------- 97.7/192.3 MB 72.6 MB/s eta 0:00:02\n",
      "   -------------------- ------------------ 100.7/192.3 MB 73.1 MB/s eta 0:00:02\n",
      "   --------------------- ----------------- 103.7/192.3 MB 73.1 MB/s eta 0:00:02\n",
      "   --------------------- ----------------- 106.7/192.3 MB 65.6 MB/s eta 0:00:02\n",
      "   --------------------- ----------------- 108.1/192.3 MB 59.5 MB/s eta 0:00:02\n",
      "   ---------------------- ---------------- 110.0/192.3 MB 50.4 MB/s eta 0:00:02\n",
      "   ----------------------- --------------- 113.8/192.3 MB 54.4 MB/s eta 0:00:02\n",
      "   ----------------------- --------------- 117.3/192.3 MB 59.5 MB/s eta 0:00:02\n",
      "   ------------------------ -------------- 120.1/192.3 MB 72.6 MB/s eta 0:00:01\n",
      "   ------------------------ -------------- 123.0/192.3 MB 73.1 MB/s eta 0:00:01\n",
      "   ------------------------- ------------- 126.9/192.3 MB 73.1 MB/s eta 0:00:01\n",
      "   -------------------------- ------------ 129.3/192.3 MB 73.1 MB/s eta 0:00:01\n",
      "   -------------------------- ------------ 132.9/192.3 MB 72.6 MB/s eta 0:00:01\n",
      "   --------------------------- ----------- 135.2/192.3 MB 65.6 MB/s eta 0:00:01\n",
      "   ---------------------------- ---------- 138.5/192.3 MB 72.6 MB/s eta 0:00:01\n",
      "   ---------------------------- ---------- 141.6/192.3 MB 65.2 MB/s eta 0:00:01\n",
      "   ----------------------------- --------- 145.0/192.3 MB 72.6 MB/s eta 0:00:01\n",
      "   ----------------------------- --------- 147.9/192.3 MB 73.1 MB/s eta 0:00:01\n",
      "   ------------------------------ -------- 150.5/192.3 MB 65.6 MB/s eta 0:00:01\n",
      "   ------------------------------- ------- 153.3/192.3 MB 65.6 MB/s eta 0:00:01\n",
      "   ------------------------------- ------- 156.6/192.3 MB 65.6 MB/s eta 0:00:01\n",
      "   -------------------------------- ------ 159.6/192.3 MB 65.6 MB/s eta 0:00:01\n",
      "   -------------------------------- ------ 162.1/192.3 MB 65.6 MB/s eta 0:00:01\n",
      "   --------------------------------- ----- 165.4/192.3 MB 65.2 MB/s eta 0:00:01\n",
      "   ---------------------------------- ---- 169.2/192.3 MB 72.6 MB/s eta 0:00:01\n",
      "   ---------------------------------- ---- 172.0/192.3 MB 73.1 MB/s eta 0:00:01\n",
      "   ----------------------------------- --- 175.0/192.3 MB 73.1 MB/s eta 0:00:01\n",
      "   ------------------------------------ -- 178.3/192.3 MB 65.6 MB/s eta 0:00:01\n",
      "   ------------------------------------ -- 180.3/192.3 MB 59.5 MB/s eta 0:00:01\n",
      "   ------------------------------------- - 183.2/192.3 MB 59.5 MB/s eta 0:00:01\n",
      "   ------------------------------------- - 186.8/192.3 MB 59.5 MB/s eta 0:00:01\n",
      "   --------------------------------------  189.5/192.3 MB 65.2 MB/s eta 0:00:01\n",
      "   --------------------------------------  191.8/192.3 MB 59.5 MB/s eta 0:00:01\n",
      "   --------------------------------------  192.3/192.3 MB 65.2 MB/s eta 0:00:01\n",
      "   --------------------------------------  192.3/192.3 MB 65.2 MB/s eta 0:00:01\n",
      "   --------------------------------------  192.3/192.3 MB 65.2 MB/s eta 0:00:01\n",
      "   --------------------------------------  192.3/192.3 MB 65.2 MB/s eta 0:00:01\n",
      "   --------------------------------------  192.3/192.3 MB 65.2 MB/s eta 0:00:01\n",
      "   --------------------------------------  192.3/192.3 MB 65.2 MB/s eta 0:00:01\n",
      "   --------------------------------------  192.3/192.3 MB 65.2 MB/s eta 0:00:01\n",
      "   --------------------------------------  192.3/192.3 MB 65.2 MB/s eta 0:00:01\n",
      "   --------------------------------------- 192.3/192.3 MB 18.2 MB/s eta 0:00:00\n",
      "Downloading matplotlib-3.8.2-cp311-cp311-win_amd64.whl (7.6 MB)\n",
      "   ---------------------------------------- 0.0/7.6 MB ? eta -:--:--\n",
      "   ----------- ---------------------------- 2.2/7.6 MB 46.8 MB/s eta 0:00:01\n",
      "   -------------------------- ------------- 5.0/7.6 MB 53.4 MB/s eta 0:00:01\n",
      "   ---------------------------------------- 7.6/7.6 MB 54.2 MB/s eta 0:00:00\n",
      "Downloading contourpy-1.2.0-cp311-cp311-win_amd64.whl (187 kB)\n",
      "   ---------------------------------------- 0.0/187.6 kB ? eta -:--:--\n",
      "   --------------------------------------- 187.6/187.6 kB 11.1 MB/s eta 0:00:00\n",
      "Downloading cycler-0.12.1-py3-none-any.whl (8.3 kB)\n",
      "Downloading fonttools-4.47.2-cp311-cp311-win_amd64.whl (2.2 MB)\n",
      "   ---------------------------------------- 0.0/2.2 MB ? eta -:--:--\n",
      "   ------------------------------- -------- 1.7/2.2 MB 53.1 MB/s eta 0:00:01\n",
      "   ---------------------------------------- 2.2/2.2 MB 46.1 MB/s eta 0:00:00\n",
      "Downloading kiwisolver-1.4.5-cp311-cp311-win_amd64.whl (56 kB)\n",
      "   ---------------------------------------- 0.0/56.1 kB ? eta -:--:--\n",
      "   ---------------------------------------- 56.1/56.1 kB ? eta 0:00:00\n",
      "Downloading opencv_python-4.9.0.80-cp37-abi3-win_amd64.whl (38.6 MB)\n",
      "   ---------------------------------------- 0.0/38.6 MB ? eta -:--:--\n",
      "   -- ------------------------------------- 2.5/38.6 MB 53.6 MB/s eta 0:00:01\n",
      "   ------ --------------------------------- 6.3/38.6 MB 66.8 MB/s eta 0:00:01\n",
      "   ---------- ----------------------------- 9.9/38.6 MB 70.4 MB/s eta 0:00:01\n",
      "   ------------- -------------------------- 12.6/38.6 MB 72.6 MB/s eta 0:00:01\n",
      "   ---------------- ----------------------- 15.5/38.6 MB 65.2 MB/s eta 0:00:01\n",
      "   ------------------- -------------------- 18.4/38.6 MB 65.2 MB/s eta 0:00:01\n",
      "   ------------------- -------------------- 18.7/38.6 MB 59.5 MB/s eta 0:00:01\n",
      "   ------------------- -------------------- 18.7/38.6 MB 59.5 MB/s eta 0:00:01\n",
      "   ------------------- -------------------- 18.7/38.6 MB 59.5 MB/s eta 0:00:01\n",
      "   ------------------- -------------------- 18.7/38.6 MB 59.5 MB/s eta 0:00:01\n",
      "   ---------------------------- ----------- 27.1/38.6 MB 38.5 MB/s eta 0:00:01\n",
      "   ----------------------------- ---------- 28.3/38.6 MB 34.4 MB/s eta 0:00:01\n",
      "   ------------------------------- -------- 30.3/38.6 MB 81.8 MB/s eta 0:00:01\n",
      "   --------------------------------- ------ 32.6/38.6 MB 65.2 MB/s eta 0:00:01\n",
      "   ------------------------------------ --- 35.0/38.6 MB 50.4 MB/s eta 0:00:01\n",
      "   -------------------------------------- - 37.1/38.6 MB 46.7 MB/s eta 0:00:01\n",
      "   ---------------------------------------  38.6/38.6 MB 50.4 MB/s eta 0:00:01\n",
      "   ---------------------------------------- 38.6/38.6 MB 40.9 MB/s eta 0:00:00\n",
      "Downloading pillow-10.2.0-cp311-cp311-win_amd64.whl (2.6 MB)\n",
      "   ---------------------------------------- 0.0/2.6 MB ? eta -:--:--\n",
      "   ---------------------------- ----------- 1.9/2.6 MB 39.2 MB/s eta 0:00:01\n",
      "   ---------------------------------------- 2.6/2.6 MB 41.4 MB/s eta 0:00:00\n",
      "Downloading pyparsing-3.1.1-py3-none-any.whl (103 kB)\n",
      "   ---------------------------------------- 0.0/103.1 kB ? eta -:--:--\n",
      "   ---------------------------------------- 103.1/103.1 kB ? eta 0:00:00\n",
      "Downloading pytz-2023.3.post1-py2.py3-none-any.whl (502 kB)\n",
      "   ---------------------------------------- 0.0/502.5 kB ? eta -:--:--\n",
      "   --------------------------------------- 502.5/502.5 kB 32.8 MB/s eta 0:00:00\n",
      "Downloading PyYAML-6.0.1-cp311-cp311-win_amd64.whl (144 kB)\n",
      "   ---------------------------------------- 0.0/144.7 kB ? eta -:--:--\n",
      "   ---------------------------------------- 144.7/144.7 kB ? eta 0:00:00\n",
      "Using cached requests-2.31.0-py3-none-any.whl (62 kB)\n",
      "Downloading scipy-1.12.0-cp311-cp311-win_amd64.whl (46.2 MB)\n",
      "   ---------------------------------------- 0.0/46.2 MB ? eta -:--:--\n",
      "   - -------------------------------------- 2.2/46.2 MB 70.0 MB/s eta 0:00:01\n",
      "   ---- ----------------------------------- 4.7/46.2 MB 59.7 MB/s eta 0:00:01\n",
      "   ----- ---------------------------------- 6.3/46.2 MB 50.6 MB/s eta 0:00:01\n",
      "   ------- -------------------------------- 8.4/46.2 MB 48.7 MB/s eta 0:00:01\n",
      "   -------- ------------------------------- 9.7/46.2 MB 44.3 MB/s eta 0:00:01\n",
      "   ---------- ----------------------------- 12.2/46.2 MB 43.5 MB/s eta 0:00:01\n",
      "   ------------ --------------------------- 14.8/46.2 MB 43.5 MB/s eta 0:00:01\n",
      "   -------------- ------------------------- 17.2/46.2 MB 46.9 MB/s eta 0:00:01\n",
      "   ---------------- ----------------------- 19.3/46.2 MB 50.4 MB/s eta 0:00:01\n",
      "   ------------------ --------------------- 21.5/46.2 MB 50.4 MB/s eta 0:00:01\n",
      "   -------------------- ------------------- 23.4/46.2 MB 50.4 MB/s eta 0:00:01\n",
      "   --------------------- ------------------ 25.3/46.2 MB 46.7 MB/s eta 0:00:01\n",
      "   ----------------------- ---------------- 27.3/46.2 MB 43.5 MB/s eta 0:00:01\n",
      "   ------------------------- -------------- 28.9/46.2 MB 40.9 MB/s eta 0:00:01\n",
      "   --------------------------- ------------ 31.2/46.2 MB 43.5 MB/s eta 0:00:01\n",
      "   ---------------------------- ----------- 33.4/46.2 MB 43.7 MB/s eta 0:00:01\n",
      "   ------------------------------- -------- 35.9/46.2 MB 46.9 MB/s eta 0:00:01\n",
      "   --------------------------------- ------ 38.3/46.2 MB 50.4 MB/s eta 0:00:01\n",
      "   ---------------------------------- ----- 40.2/46.2 MB 50.4 MB/s eta 0:00:01\n",
      "   ------------------------------------ --- 42.1/46.2 MB 46.7 MB/s eta 0:00:01\n",
      "   -------------------------------------- - 44.4/46.2 MB 50.4 MB/s eta 0:00:01\n",
      "   ---------------------------------------  46.2/46.2 MB 50.4 MB/s eta 0:00:01\n",
      "   ---------------------------------------  46.2/46.2 MB 50.4 MB/s eta 0:00:01\n",
      "   ---------------------------------------- 46.2/46.2 MB 34.4 MB/s eta 0:00:00\n",
      "Downloading seaborn-0.13.2-py3-none-any.whl (294 kB)\n",
      "   ---------------------------------------- 0.0/294.9 kB ? eta -:--:--\n",
      "   --------------------------------------- 294.9/294.9 kB 17.8 MB/s eta 0:00:00\n",
      "Downloading torchvision-0.16.2-cp311-cp311-win_amd64.whl (1.1 MB)\n",
      "   ---------------------------------------- 0.0/1.1 MB ? eta -:--:--\n",
      "   ---------------------------------------- 1.1/1.1 MB 70.5 MB/s eta 0:00:00\n",
      "Using cached tqdm-4.66.1-py3-none-any.whl (78 kB)\n",
      "Downloading tzdata-2023.4-py2.py3-none-any.whl (346 kB)\n",
      "   ---------------------------------------- 0.0/346.6 kB ? eta -:--:--\n",
      "   --------------------------------------- 346.6/346.6 kB 21.0 MB/s eta 0:00:00\n",
      "Downloading filelock-3.13.1-py3-none-any.whl (11 kB)\n",
      "Downloading fsspec-2023.12.2-py3-none-any.whl (168 kB)\n",
      "   ---------------------------------------- 0.0/169.0 kB ? eta -:--:--\n",
      "   ---------------------------------------- 169.0/169.0 kB ? eta 0:00:00\n",
      "Downloading Jinja2-3.1.3-py3-none-any.whl (133 kB)\n",
      "   ---------------------------------------- 0.0/133.2 kB ? eta -:--:--\n",
      "   ---------------------------------------- 133.2/133.2 kB ? eta 0:00:00\n",
      "Downloading networkx-3.2.1-py3-none-any.whl (1.6 MB)\n",
      "   ---------------------------------------- 0.0/1.6 MB ? eta -:--:--\n",
      "   ---------------------------------------  1.6/1.6 MB 52.5 MB/s eta 0:00:01\n",
      "   ---------------------------------------- 1.6/1.6 MB 35.6 MB/s eta 0:00:00\n",
      "Downloading typing_extensions-4.9.0-py3-none-any.whl (32 kB)\n",
      "Downloading certifi-2023.11.17-py3-none-any.whl (162 kB)\n",
      "   ---------------------------------------- 0.0/162.5 kB ? eta -:--:--\n",
      "   ---------------------------------------- 162.5/162.5 kB 9.5 MB/s eta 0:00:00\n",
      "Using cached charset_normalizer-3.3.2-cp311-cp311-win_amd64.whl (99 kB)\n",
      "Downloading idna-3.6-py3-none-any.whl (61 kB)\n",
      "   ---------------------------------------- 0.0/61.6 kB ? eta -:--:--\n",
      "   ---------------------------------------- 61.6/61.6 kB ? eta 0:00:00\n",
      "Downloading MarkupSafe-2.1.4-cp311-cp311-win_amd64.whl (17 kB)\n",
      "Downloading urllib3-2.1.0-py3-none-any.whl (104 kB)\n",
      "   ---------------------------------------- 0.0/104.6 kB ? eta -:--:--\n",
      "   ---------------------------------------- 104.6/104.6 kB ? eta 0:00:00\n",
      "Installing collected packages: pytz, py-cpuinfo, mpmath, urllib3, tzdata, typing-extensions, tqdm, sympy, pyyaml, pyparsing, pillow, numpy, networkx, MarkupSafe, kiwisolver, idna, fsspec, fonttools, filelock, cycler, charset-normalizer, certifi, scipy, requests, pandas, opencv-python, jinja2, contourpy, torch, matplotlib, torchvision, thop, seaborn, ultralytics\n",
      "Successfully installed MarkupSafe-2.1.4 certifi-2023.11.17 charset-normalizer-3.3.2 contourpy-1.2.0 cycler-0.12.1 filelock-3.13.1 fonttools-4.47.2 fsspec-2023.12.2 idna-3.6 jinja2-3.1.3 kiwisolver-1.4.5 matplotlib-3.8.2 mpmath-1.3.0 networkx-3.2.1 numpy-1.26.3 opencv-python-4.9.0.80 pandas-2.2.0 pillow-10.2.0 py-cpuinfo-9.0.0 pyparsing-3.1.1 pytz-2023.3.post1 pyyaml-6.0.1 requests-2.31.0 scipy-1.12.0 seaborn-0.13.2 sympy-1.12 thop-0.1.1.post2209072238 torch-2.1.2 torchvision-0.16.2 tqdm-4.66.1 typing-extensions-4.9.0 tzdata-2023.4 ultralytics-8.1.6 urllib3-2.1.0\n",
      "Note: you may need to restart the kernel to use updated packages.\n"
     ]
    }
   ],
   "source": [
    "%pip install ultralytics numpy pandas torch matplotlib"
   ]
  },
  {
   "cell_type": "code",
   "execution_count": 4,
   "metadata": {},
   "outputs": [
    {
     "name": "stdout",
     "output_type": "stream",
     "text": [
      "cpu False\n"
     ]
    }
   ],
   "source": [
    "DEVICE = torch.device('cuda:0' if torch.cuda.is_available() else 'cpu')\n",
    "print(DEVICE,torch.cuda.is_available())"
   ]
  },
  {
   "cell_type": "code",
   "execution_count": 5,
   "metadata": {},
   "outputs": [
    {
     "name": "stdout",
     "output_type": "stream",
     "text": [
      "HOME: c:\\Users\\sasan\\OneDrive\\Desktop\\CSC630\\aros-blueberry\n"
     ]
    }
   ],
   "source": [
    "# Get CWD into variable\n",
    "HOME = os.getcwd()\n",
    "print(\"HOME:\", HOME)"
   ]
  },
  {
   "cell_type": "code",
   "execution_count": 6,
   "metadata": {},
   "outputs": [
    {
     "name": "stdout",
     "output_type": "stream",
     "text": [
      "Transferred 355/355 items from pretrained weights\n",
      "Ultralytics YOLOv8.1.6 🚀 Python-3.11.5 torch-2.1.2+cpu CPU (11th Gen Intel Core(TM) i7-11800H 2.30GHz)\n",
      "\u001b[34m\u001b[1mengine\\trainer: \u001b[0mtask=detect, mode=train, model=yolov8n.yaml, data=C:\\Users\\sasan\\OneDrive\\Desktop\\CSC630\\aros-blueberry\\blueberry_measurement_yolov8\\data.yaml, epochs=20, time=None, patience=50, batch=16, imgsz=640, save=True, save_period=-1, cache=False, device=None, workers=8, project=None, name=train3, exist_ok=False, pretrained=True, optimizer=auto, verbose=True, seed=0, deterministic=True, single_cls=False, rect=False, cos_lr=False, close_mosaic=10, resume=False, amp=True, fraction=1.0, profile=False, freeze=None, multi_scale=False, overlap_mask=True, mask_ratio=4, dropout=0.0, val=True, split=val, save_json=False, save_hybrid=False, conf=None, iou=0.7, max_det=300, half=False, dnn=False, plots=True, source=None, vid_stride=1, stream_buffer=False, visualize=False, augment=False, agnostic_nms=False, classes=None, retina_masks=False, embed=None, show=False, save_frames=False, save_txt=False, save_conf=False, save_crop=False, show_labels=True, show_conf=True, show_boxes=True, line_width=None, format=torchscript, keras=False, optimize=False, int8=False, dynamic=False, simplify=False, opset=None, workspace=4, nms=False, lr0=0.01, lrf=0.01, momentum=0.937, weight_decay=0.0005, warmup_epochs=3.0, warmup_momentum=0.8, warmup_bias_lr=0.1, box=7.5, cls=0.5, dfl=1.5, pose=12.0, kobj=1.0, label_smoothing=0.0, nbs=64, hsv_h=0.015, hsv_s=0.7, hsv_v=0.4, degrees=0.0, translate=0.1, scale=0.5, shear=0.0, perspective=0.0, flipud=0.0, fliplr=0.5, mosaic=1.0, mixup=0.0, copy_paste=0.0, auto_augment=randaugment, erasing=0.4, crop_fraction=1.0, cfg=None, tracker=botsort.yaml, save_dir=runs\\detect\\train3\n",
      "Overriding model.yaml nc=80 with nc=1\n",
      "\n",
      "                   from  n    params  module                                       arguments                     \n",
      "  0                  -1  1       464  ultralytics.nn.modules.conv.Conv             [3, 16, 3, 2]                 \n",
      "  1                  -1  1      4672  ultralytics.nn.modules.conv.Conv             [16, 32, 3, 2]                \n",
      "  2                  -1  1      7360  ultralytics.nn.modules.block.C2f             [32, 32, 1, True]             \n",
      "  3                  -1  1     18560  ultralytics.nn.modules.conv.Conv             [32, 64, 3, 2]                \n",
      "  4                  -1  2     49664  ultralytics.nn.modules.block.C2f             [64, 64, 2, True]             \n",
      "  5                  -1  1     73984  ultralytics.nn.modules.conv.Conv             [64, 128, 3, 2]               \n",
      "  6                  -1  2    197632  ultralytics.nn.modules.block.C2f             [128, 128, 2, True]           \n",
      "  7                  -1  1    295424  ultralytics.nn.modules.conv.Conv             [128, 256, 3, 2]              \n",
      "  8                  -1  1    460288  ultralytics.nn.modules.block.C2f             [256, 256, 1, True]           \n",
      "  9                  -1  1    164608  ultralytics.nn.modules.block.SPPF            [256, 256, 5]                 \n",
      " 10                  -1  1         0  torch.nn.modules.upsampling.Upsample         [None, 2, 'nearest']          \n",
      " 11             [-1, 6]  1         0  ultralytics.nn.modules.conv.Concat           [1]                           \n",
      " 12                  -1  1    148224  ultralytics.nn.modules.block.C2f             [384, 128, 1]                 \n",
      " 13                  -1  1         0  torch.nn.modules.upsampling.Upsample         [None, 2, 'nearest']          \n",
      " 14             [-1, 4]  1         0  ultralytics.nn.modules.conv.Concat           [1]                           \n",
      " 15                  -1  1     37248  ultralytics.nn.modules.block.C2f             [192, 64, 1]                  \n",
      " 16                  -1  1     36992  ultralytics.nn.modules.conv.Conv             [64, 64, 3, 2]                \n",
      " 17            [-1, 12]  1         0  ultralytics.nn.modules.conv.Concat           [1]                           \n",
      " 18                  -1  1    123648  ultralytics.nn.modules.block.C2f             [192, 128, 1]                 \n",
      " 19                  -1  1    147712  ultralytics.nn.modules.conv.Conv             [128, 128, 3, 2]              \n",
      " 20             [-1, 9]  1         0  ultralytics.nn.modules.conv.Concat           [1]                           \n",
      " 21                  -1  1    493056  ultralytics.nn.modules.block.C2f             [384, 256, 1]                 \n",
      " 22        [15, 18, 21]  1    751507  ultralytics.nn.modules.head.Detect           [1, [64, 128, 256]]           \n",
      "YOLOv8n summary: 225 layers, 3011043 parameters, 3011027 gradients, 8.2 GFLOPs\n",
      "\n",
      "Transferred 319/355 items from pretrained weights\n",
      "Freezing layer 'model.22.dfl.conv.weight'\n"
     ]
    },
    {
     "name": "stderr",
     "output_type": "stream",
     "text": [
      "\u001b[34m\u001b[1mtrain: \u001b[0mScanning C:\\Users\\sasan\\OneDrive\\Desktop\\CSC630\\aros-blueberry\\blueberry_measurement_yolov8\\train\\labels... 2276 images, 9 backgrounds, 0 corrupt: 100%|██████████| 2276/2276 [00:08<00:00, 283.57it/s]"
     ]
    },
    {
     "name": "stdout",
     "output_type": "stream",
     "text": [
      "\u001b[34m\u001b[1mtrain: \u001b[0mWARNING ⚠️ C:\\Users\\sasan\\OneDrive\\Desktop\\CSC630\\aros-blueberry\\blueberry_measurement_yolov8\\train\\images\\17-004_22_13_jpg.rf.5a258ca7714145c83c25fdb728d4b506.jpg: 1 duplicate labels removed\n",
      "\u001b[34m\u001b[1mtrain: \u001b[0mWARNING ⚠️ C:\\Users\\sasan\\OneDrive\\Desktop\\CSC630\\aros-blueberry\\blueberry_measurement_yolov8\\train\\images\\17-004_22_13_jpg.rf.6c7d8b3e736d6a22d1e7689e5db52ebd.jpg: 1 duplicate labels removed\n",
      "\u001b[34m\u001b[1mtrain: \u001b[0mWARNING ⚠️ C:\\Users\\sasan\\OneDrive\\Desktop\\CSC630\\aros-blueberry\\blueberry_measurement_yolov8\\train\\images\\17-004_22_13_jpg.rf.d8f070ac96503b3e1c445d99f819c462.jpg: 1 duplicate labels removed\n",
      "\u001b[34m\u001b[1mtrain: \u001b[0mWARNING ⚠️ C:\\Users\\sasan\\OneDrive\\Desktop\\CSC630\\aros-blueberry\\blueberry_measurement_yolov8\\train\\images\\18-029_F2_32_9_jpg.rf.0a9be562fa4487bfeab96d8f246154e1.jpg: 1 duplicate labels removed\n",
      "\u001b[34m\u001b[1mtrain: \u001b[0mWARNING ⚠️ C:\\Users\\sasan\\OneDrive\\Desktop\\CSC630\\aros-blueberry\\blueberry_measurement_yolov8\\train\\images\\18-029_F2_32_9_jpg.rf.3175f6bc6077f22496ebe2fc1608aeff.jpg: 1 duplicate labels removed\n",
      "\u001b[34m\u001b[1mtrain: \u001b[0mWARNING ⚠️ C:\\Users\\sasan\\OneDrive\\Desktop\\CSC630\\aros-blueberry\\blueberry_measurement_yolov8\\train\\images\\18-029_F2_32_9_jpg.rf.66d2fe139dc1b31d865e783cf8105e13.jpg: 1 duplicate labels removed\n",
      "\u001b[34m\u001b[1mtrain: \u001b[0mWARNING ⚠️ C:\\Users\\sasan\\OneDrive\\Desktop\\CSC630\\aros-blueberry\\blueberry_measurement_yolov8\\train\\images\\H1-17-005_F2_24_5_jpg.rf.555764460c156dec626770d62f3ca7ec.jpg: 2 duplicate labels removed\n",
      "\u001b[34m\u001b[1mtrain: \u001b[0mWARNING ⚠️ C:\\Users\\sasan\\OneDrive\\Desktop\\CSC630\\aros-blueberry\\blueberry_measurement_yolov8\\train\\images\\H1-17-005_F2_24_5_jpg.rf.6302047265e9dec4a436f92dded12126.jpg: 2 duplicate labels removed\n",
      "\u001b[34m\u001b[1mtrain: \u001b[0mWARNING ⚠️ C:\\Users\\sasan\\OneDrive\\Desktop\\CSC630\\aros-blueberry\\blueberry_measurement_yolov8\\train\\images\\H1-17-005_F2_24_5_jpg.rf.ab7a287fc87a693745836ff6fcd65749.jpg: 2 duplicate labels removed\n",
      "\u001b[34m\u001b[1mtrain: \u001b[0mWARNING ⚠️ C:\\Users\\sasan\\OneDrive\\Desktop\\CSC630\\aros-blueberry\\blueberry_measurement_yolov8\\train\\images\\H1-18-015_F2_36_6_jpg.rf.0495be9929b5f2a6aad6daf3a91bd180.jpg: 4 duplicate labels removed\n",
      "\u001b[34m\u001b[1mtrain: \u001b[0mWARNING ⚠️ C:\\Users\\sasan\\OneDrive\\Desktop\\CSC630\\aros-blueberry\\blueberry_measurement_yolov8\\train\\images\\H1-18-015_F2_36_6_jpg.rf.1479a85728a3d68ae65b0e2e3a2769b9.jpg: 1 duplicate labels removed\n",
      "\u001b[34m\u001b[1mtrain: \u001b[0mWARNING ⚠️ C:\\Users\\sasan\\OneDrive\\Desktop\\CSC630\\aros-blueberry\\blueberry_measurement_yolov8\\train\\images\\H1-18-015_F2_36_6_jpg.rf.60240a6c94f6bedeff32bf742a0957b9.jpg: 4 duplicate labels removed\n",
      "\u001b[34m\u001b[1mtrain: \u001b[0mWARNING ⚠️ C:\\Users\\sasan\\OneDrive\\Desktop\\CSC630\\aros-blueberry\\blueberry_measurement_yolov8\\train\\images\\H1-18-015_F2_36_6_jpg.rf.734027b9a2eb2a717f03ff4e0db74b93.jpg: 1 duplicate labels removed\n",
      "\u001b[34m\u001b[1mtrain: \u001b[0mWARNING ⚠️ C:\\Users\\sasan\\OneDrive\\Desktop\\CSC630\\aros-blueberry\\blueberry_measurement_yolov8\\train\\images\\H1-18-015_F2_36_6_jpg.rf.7e82f9e42da99d51ef36fb977da8c57d.jpg: 5 duplicate labels removed\n",
      "\u001b[34m\u001b[1mtrain: \u001b[0mWARNING ⚠️ C:\\Users\\sasan\\OneDrive\\Desktop\\CSC630\\aros-blueberry\\blueberry_measurement_yolov8\\train\\images\\H1-18-015_F2_36_6_jpg.rf.864dbdce465be2449851c36e9c2a8b8c.jpg: 1 duplicate labels removed\n",
      "\u001b[34m\u001b[1mtrain: \u001b[0mWARNING ⚠️ C:\\Users\\sasan\\OneDrive\\Desktop\\CSC630\\aros-blueberry\\blueberry_measurement_yolov8\\train\\images\\H1-18-015_F2_36_6_jpg.rf.9ec8b9579da30541a711b05da165fa2b.jpg: 4 duplicate labels removed\n",
      "\u001b[34m\u001b[1mtrain: \u001b[0mWARNING ⚠️ C:\\Users\\sasan\\OneDrive\\Desktop\\CSC630\\aros-blueberry\\blueberry_measurement_yolov8\\train\\images\\H1-18-015_F2_36_6_jpg.rf.a80bcf20f5e243841e4746afd5bc4950.jpg: 5 duplicate labels removed\n",
      "\u001b[34m\u001b[1mtrain: \u001b[0mWARNING ⚠️ C:\\Users\\sasan\\OneDrive\\Desktop\\CSC630\\aros-blueberry\\blueberry_measurement_yolov8\\train\\images\\H1-18-015_F2_36_6_jpg.rf.b34dbb6e275e845332c2ca8c5e89d5da.jpg: 5 duplicate labels removed\n",
      "\u001b[34m\u001b[1mtrain: \u001b[0mWARNING ⚠️ C:\\Users\\sasan\\OneDrive\\Desktop\\CSC630\\aros-blueberry\\blueberry_measurement_yolov8\\train\\images\\H1-Legacy_F2_23_15_jpg.rf.00e82b8a6660e544a0c754c9f63317dc.jpg: 1 duplicate labels removed\n",
      "\u001b[34m\u001b[1mtrain: \u001b[0mWARNING ⚠️ C:\\Users\\sasan\\OneDrive\\Desktop\\CSC630\\aros-blueberry\\blueberry_measurement_yolov8\\train\\images\\H1-Legacy_F2_23_15_jpg.rf.45574693730346e55d9c38cb7a3c8269.jpg: 1 duplicate labels removed\n",
      "\u001b[34m\u001b[1mtrain: \u001b[0mWARNING ⚠️ C:\\Users\\sasan\\OneDrive\\Desktop\\CSC630\\aros-blueberry\\blueberry_measurement_yolov8\\train\\images\\H1-Legacy_F2_23_15_jpg.rf.86a2d292c54309ce0299d417d7f9a386.jpg: 1 duplicate labels removed\n",
      "\u001b[34m\u001b[1mtrain: \u001b[0mWARNING ⚠️ C:\\Users\\sasan\\OneDrive\\Desktop\\CSC630\\aros-blueberry\\blueberry_measurement_yolov8\\train\\images\\H1-Legacy_F2_23_15_jpg.rf.a8876915b9e4900193f1de48518b8728.jpg: 1 duplicate labels removed\n",
      "\u001b[34m\u001b[1mtrain: \u001b[0mWARNING ⚠️ C:\\Users\\sasan\\OneDrive\\Desktop\\CSC630\\aros-blueberry\\blueberry_measurement_yolov8\\train\\images\\H1-Legacy_F2_23_15_jpg.rf.e4779d985d7dd6d6d4ef1f33fb0952e8.jpg: 1 duplicate labels removed\n",
      "\u001b[34m\u001b[1mtrain: \u001b[0mWARNING ⚠️ C:\\Users\\sasan\\OneDrive\\Desktop\\CSC630\\aros-blueberry\\blueberry_measurement_yolov8\\train\\images\\H1-Legacy_F2_23_15_jpg.rf.f657b27292624e13593d3a64e89758ba.jpg: 1 duplicate labels removed\n"
     ]
    },
    {
     "name": "stderr",
     "output_type": "stream",
     "text": [
      "\n"
     ]
    },
    {
     "name": "stdout",
     "output_type": "stream",
     "text": [
      "\u001b[34m\u001b[1mtrain: \u001b[0mNew cache created: C:\\Users\\sasan\\OneDrive\\Desktop\\CSC630\\aros-blueberry\\blueberry_measurement_yolov8\\train\\labels.cache\n"
     ]
    },
    {
     "name": "stderr",
     "output_type": "stream",
     "text": [
      "\u001b[34m\u001b[1mval: \u001b[0mScanning C:\\Users\\sasan\\OneDrive\\Desktop\\CSC630\\aros-blueberry\\blueberry_measurement_yolov8\\valid\\labels... 128 images, 0 backgrounds, 0 corrupt: 100%|██████████| 128/128 [00:00<00:00, 292.49it/s]"
     ]
    },
    {
     "name": "stdout",
     "output_type": "stream",
     "text": [
      "\u001b[34m\u001b[1mval: \u001b[0mNew cache created: C:\\Users\\sasan\\OneDrive\\Desktop\\CSC630\\aros-blueberry\\blueberry_measurement_yolov8\\valid\\labels.cache\n"
     ]
    },
    {
     "name": "stderr",
     "output_type": "stream",
     "text": [
      "\n"
     ]
    },
    {
     "name": "stdout",
     "output_type": "stream",
     "text": [
      "Plotting labels to runs\\detect\\train3\\labels.jpg... \n",
      "\u001b[34m\u001b[1moptimizer:\u001b[0m 'optimizer=auto' found, ignoring 'lr0=0.01' and 'momentum=0.937' and determining best 'optimizer', 'lr0' and 'momentum' automatically... \n",
      "\u001b[34m\u001b[1moptimizer:\u001b[0m AdamW(lr=0.002, momentum=0.9) with parameter groups 57 weight(decay=0.0), 64 weight(decay=0.0005), 63 bias(decay=0.0)\n",
      "Image sizes 640 train, 640 val\n",
      "Using 0 dataloader workers\n",
      "Logging results to \u001b[1mruns\\detect\\train3\u001b[0m\n",
      "Starting training for 20 epochs...\n",
      "\n",
      "      Epoch    GPU_mem   box_loss   cls_loss   dfl_loss  Instances       Size\n"
     ]
    },
    {
     "name": "stderr",
     "output_type": "stream",
     "text": [
      "       1/20         0G     0.9138      1.328      1.059        110        640: 100%|██████████| 143/143 [18:03<00:00,  7.58s/it]\n",
      "                 Class     Images  Instances      Box(P          R      mAP50  mAP50-95): 100%|██████████| 4/4 [00:25<00:00,  6.38s/it]"
     ]
    },
    {
     "name": "stdout",
     "output_type": "stream",
     "text": [
      "                   all        128       3853      0.939      0.931      0.972      0.734\n"
     ]
    },
    {
     "name": "stderr",
     "output_type": "stream",
     "text": [
      "\n"
     ]
    },
    {
     "name": "stdout",
     "output_type": "stream",
     "text": [
      "\n",
      "      Epoch    GPU_mem   box_loss   cls_loss   dfl_loss  Instances       Size\n"
     ]
    },
    {
     "name": "stderr",
     "output_type": "stream",
     "text": [
      "       2/20         0G     0.6988     0.7859     0.9507        175        640: 100%|██████████| 143/143 [16:27<00:00,  6.90s/it]\n",
      "                 Class     Images  Instances      Box(P          R      mAP50  mAP50-95): 100%|██████████| 4/4 [00:18<00:00,  4.53s/it]"
     ]
    },
    {
     "name": "stdout",
     "output_type": "stream",
     "text": [
      "                   all        128       3853      0.973      0.952      0.979      0.792\n"
     ]
    },
    {
     "name": "stderr",
     "output_type": "stream",
     "text": [
      "\n"
     ]
    },
    {
     "name": "stdout",
     "output_type": "stream",
     "text": [
      "\n",
      "      Epoch    GPU_mem   box_loss   cls_loss   dfl_loss  Instances       Size\n"
     ]
    },
    {
     "name": "stderr",
     "output_type": "stream",
     "text": [
      "       3/20         0G     0.6816      0.729     0.9394        159        640: 100%|██████████| 143/143 [13:58<00:00,  5.87s/it]\n",
      "                 Class     Images  Instances      Box(P          R      mAP50  mAP50-95): 100%|██████████| 4/4 [00:20<00:00,  5.00s/it]"
     ]
    },
    {
     "name": "stdout",
     "output_type": "stream",
     "text": [
      "                   all        128       3853      0.975      0.962      0.979      0.732\n"
     ]
    },
    {
     "name": "stderr",
     "output_type": "stream",
     "text": [
      "\n"
     ]
    },
    {
     "name": "stdout",
     "output_type": "stream",
     "text": [
      "\n",
      "      Epoch    GPU_mem   box_loss   cls_loss   dfl_loss  Instances       Size\n"
     ]
    },
    {
     "name": "stderr",
     "output_type": "stream",
     "text": [
      "       4/20         0G     0.6747     0.7031     0.9403        295        640: 100%|██████████| 143/143 [13:23<00:00,  5.62s/it]\n",
      "                 Class     Images  Instances      Box(P          R      mAP50  mAP50-95): 100%|██████████| 4/4 [00:18<00:00,  4.55s/it]"
     ]
    },
    {
     "name": "stdout",
     "output_type": "stream",
     "text": [
      "                   all        128       3853      0.954      0.945      0.977      0.798\n"
     ]
    },
    {
     "name": "stderr",
     "output_type": "stream",
     "text": [
      "\n"
     ]
    },
    {
     "name": "stdout",
     "output_type": "stream",
     "text": [
      "\n",
      "      Epoch    GPU_mem   box_loss   cls_loss   dfl_loss  Instances       Size\n"
     ]
    },
    {
     "name": "stderr",
     "output_type": "stream",
     "text": [
      "       5/20         0G     0.6409     0.6692     0.9301        132        640: 100%|██████████| 143/143 [13:14<00:00,  5.55s/it]\n",
      "                 Class     Images  Instances      Box(P          R      mAP50  mAP50-95): 100%|██████████| 4/4 [00:20<00:00,  5.17s/it]"
     ]
    },
    {
     "name": "stdout",
     "output_type": "stream",
     "text": [
      "                   all        128       3853      0.966      0.955      0.978      0.808\n"
     ]
    },
    {
     "name": "stderr",
     "output_type": "stream",
     "text": [
      "\n"
     ]
    },
    {
     "name": "stdout",
     "output_type": "stream",
     "text": [
      "\n",
      "      Epoch    GPU_mem   box_loss   cls_loss   dfl_loss  Instances       Size\n"
     ]
    },
    {
     "name": "stderr",
     "output_type": "stream",
     "text": [
      "       6/20         0G     0.6273     0.6494     0.9258        114        640: 100%|██████████| 143/143 [15:09<00:00,  6.36s/it]\n",
      "                 Class     Images  Instances      Box(P          R      mAP50  mAP50-95): 100%|██████████| 4/4 [00:21<00:00,  5.37s/it]"
     ]
    },
    {
     "name": "stdout",
     "output_type": "stream",
     "text": [
      "                   all        128       3853      0.973       0.96      0.981       0.83\n"
     ]
    },
    {
     "name": "stderr",
     "output_type": "stream",
     "text": [
      "\n"
     ]
    },
    {
     "name": "stdout",
     "output_type": "stream",
     "text": [
      "\n",
      "      Epoch    GPU_mem   box_loss   cls_loss   dfl_loss  Instances       Size\n"
     ]
    },
    {
     "name": "stderr",
     "output_type": "stream",
     "text": [
      "       7/20         0G     0.6139     0.6259     0.9185        175        640: 100%|██████████| 143/143 [11:59<00:00,  5.03s/it]\n",
      "                 Class     Images  Instances      Box(P          R      mAP50  mAP50-95): 100%|██████████| 4/4 [00:16<00:00,  4.15s/it]"
     ]
    },
    {
     "name": "stdout",
     "output_type": "stream",
     "text": [
      "                   all        128       3853      0.978      0.968      0.982      0.829\n",
      "\n",
      "      Epoch    GPU_mem   box_loss   cls_loss   dfl_loss  Instances       Size\n"
     ]
    },
    {
     "name": "stderr",
     "output_type": "stream",
     "text": [
      "\n",
      "       8/20         0G     0.6077     0.6172     0.9166        272        640: 100%|██████████| 143/143 [11:49<00:00,  4.96s/it]\n",
      "                 Class     Images  Instances      Box(P          R      mAP50  mAP50-95): 100%|██████████| 4/4 [00:16<00:00,  4.11s/it]"
     ]
    },
    {
     "name": "stdout",
     "output_type": "stream",
     "text": [
      "                   all        128       3853      0.974      0.963      0.981      0.815\n"
     ]
    },
    {
     "name": "stderr",
     "output_type": "stream",
     "text": [
      "\n"
     ]
    },
    {
     "name": "stdout",
     "output_type": "stream",
     "text": [
      "\n",
      "      Epoch    GPU_mem   box_loss   cls_loss   dfl_loss  Instances       Size\n"
     ]
    },
    {
     "name": "stderr",
     "output_type": "stream",
     "text": [
      "       9/20         0G      0.592     0.5959     0.9109        157        640: 100%|██████████| 143/143 [11:55<00:00,  5.01s/it]\n",
      "                 Class     Images  Instances      Box(P          R      mAP50  mAP50-95): 100%|██████████| 4/4 [00:16<00:00,  4.09s/it]"
     ]
    },
    {
     "name": "stdout",
     "output_type": "stream",
     "text": [
      "                   all        128       3853      0.978      0.961      0.982      0.821\n",
      "\n",
      "      Epoch    GPU_mem   box_loss   cls_loss   dfl_loss  Instances       Size\n"
     ]
    },
    {
     "name": "stderr",
     "output_type": "stream",
     "text": [
      "\n",
      "      10/20         0G     0.5925     0.5903     0.9119         86        640: 100%|██████████| 143/143 [12:01<00:00,  5.05s/it]\n",
      "                 Class     Images  Instances      Box(P          R      mAP50  mAP50-95): 100%|██████████| 4/4 [00:16<00:00,  4.05s/it]"
     ]
    },
    {
     "name": "stdout",
     "output_type": "stream",
     "text": [
      "                   all        128       3853      0.981      0.972      0.984      0.836\n"
     ]
    },
    {
     "name": "stderr",
     "output_type": "stream",
     "text": [
      "\n"
     ]
    },
    {
     "name": "stdout",
     "output_type": "stream",
     "text": [
      "Closing dataloader mosaic\n",
      "\n",
      "      Epoch    GPU_mem   box_loss   cls_loss   dfl_loss  Instances       Size\n"
     ]
    },
    {
     "name": "stderr",
     "output_type": "stream",
     "text": [
      "      11/20         0G     0.5435      0.568     0.9107         81        640: 100%|██████████| 143/143 [10:30<00:00,  4.41s/it]\n",
      "                 Class     Images  Instances      Box(P          R      mAP50  mAP50-95): 100%|██████████| 4/4 [00:16<00:00,  4.09s/it]"
     ]
    },
    {
     "name": "stdout",
     "output_type": "stream",
     "text": [
      "                   all        128       3853      0.986      0.971      0.984      0.856\n"
     ]
    },
    {
     "name": "stderr",
     "output_type": "stream",
     "text": [
      "\n"
     ]
    },
    {
     "name": "stdout",
     "output_type": "stream",
     "text": [
      "\n",
      "      Epoch    GPU_mem   box_loss   cls_loss   dfl_loss  Instances       Size\n"
     ]
    },
    {
     "name": "stderr",
     "output_type": "stream",
     "text": [
      "      12/20         0G     0.5375     0.5588     0.9092        111        640: 100%|██████████| 143/143 [10:32<00:00,  4.43s/it]\n",
      "                 Class     Images  Instances      Box(P          R      mAP50  mAP50-95): 100%|██████████| 4/4 [00:16<00:00,  4.11s/it]"
     ]
    },
    {
     "name": "stdout",
     "output_type": "stream",
     "text": [
      "                   all        128       3853      0.984      0.968      0.984      0.851\n",
      "\n",
      "      Epoch    GPU_mem   box_loss   cls_loss   dfl_loss  Instances       Size\n"
     ]
    },
    {
     "name": "stderr",
     "output_type": "stream",
     "text": [
      "\n",
      "      13/20         0G     0.5235     0.5382     0.9048        101        640: 100%|██████████| 143/143 [10:31<00:00,  4.41s/it]\n",
      "                 Class     Images  Instances      Box(P          R      mAP50  mAP50-95): 100%|██████████| 4/4 [00:16<00:00,  4.09s/it]"
     ]
    },
    {
     "name": "stdout",
     "output_type": "stream",
     "text": [
      "                   all        128       3853      0.984      0.965      0.985      0.865\n"
     ]
    },
    {
     "name": "stderr",
     "output_type": "stream",
     "text": [
      "\n"
     ]
    },
    {
     "name": "stdout",
     "output_type": "stream",
     "text": [
      "\n",
      "      Epoch    GPU_mem   box_loss   cls_loss   dfl_loss  Instances       Size\n"
     ]
    },
    {
     "name": "stderr",
     "output_type": "stream",
     "text": [
      "      14/20         0G     0.5199     0.5298     0.9064        234        640: 100%|██████████| 143/143 [10:55<00:00,  4.59s/it]\n",
      "                 Class     Images  Instances      Box(P          R      mAP50  mAP50-95): 100%|██████████| 4/4 [00:17<00:00,  4.36s/it]"
     ]
    },
    {
     "name": "stdout",
     "output_type": "stream",
     "text": [
      "                   all        128       3853      0.984      0.968      0.985      0.859\n"
     ]
    },
    {
     "name": "stderr",
     "output_type": "stream",
     "text": [
      "\n"
     ]
    },
    {
     "name": "stdout",
     "output_type": "stream",
     "text": [
      "\n",
      "      Epoch    GPU_mem   box_loss   cls_loss   dfl_loss  Instances       Size\n"
     ]
    },
    {
     "name": "stderr",
     "output_type": "stream",
     "text": [
      "      15/20         0G     0.5122     0.5162      0.898         79        640: 100%|██████████| 143/143 [11:38<00:00,  4.88s/it]\n",
      "                 Class     Images  Instances      Box(P          R      mAP50  mAP50-95): 100%|██████████| 4/4 [00:17<00:00,  4.39s/it]"
     ]
    },
    {
     "name": "stdout",
     "output_type": "stream",
     "text": [
      "                   all        128       3853      0.984      0.973      0.986      0.868\n"
     ]
    },
    {
     "name": "stderr",
     "output_type": "stream",
     "text": [
      "\n"
     ]
    },
    {
     "name": "stdout",
     "output_type": "stream",
     "text": [
      "\n",
      "      Epoch    GPU_mem   box_loss   cls_loss   dfl_loss  Instances       Size\n"
     ]
    },
    {
     "name": "stderr",
     "output_type": "stream",
     "text": [
      "      16/20         0G     0.5052     0.5088     0.9005        168        640: 100%|██████████| 143/143 [12:20<00:00,  5.18s/it]\n",
      "                 Class     Images  Instances      Box(P          R      mAP50  mAP50-95): 100%|██████████| 4/4 [00:20<00:00,  5.13s/it]"
     ]
    },
    {
     "name": "stdout",
     "output_type": "stream",
     "text": [
      "                   all        128       3853      0.982      0.969      0.985      0.866\n"
     ]
    },
    {
     "name": "stderr",
     "output_type": "stream",
     "text": [
      "\n"
     ]
    },
    {
     "name": "stdout",
     "output_type": "stream",
     "text": [
      "\n",
      "      Epoch    GPU_mem   box_loss   cls_loss   dfl_loss  Instances       Size\n"
     ]
    },
    {
     "name": "stderr",
     "output_type": "stream",
     "text": [
      "      17/20         0G     0.4926     0.4995     0.8955         70        640: 100%|██████████| 143/143 [13:53<00:00,  5.83s/it]\n",
      "                 Class     Images  Instances      Box(P          R      mAP50  mAP50-95): 100%|██████████| 4/4 [00:20<00:00,  5.21s/it]"
     ]
    },
    {
     "name": "stdout",
     "output_type": "stream",
     "text": [
      "                   all        128       3853      0.985      0.971      0.986      0.883\n"
     ]
    },
    {
     "name": "stderr",
     "output_type": "stream",
     "text": [
      "\n"
     ]
    },
    {
     "name": "stdout",
     "output_type": "stream",
     "text": [
      "\n",
      "      Epoch    GPU_mem   box_loss   cls_loss   dfl_loss  Instances       Size\n"
     ]
    },
    {
     "name": "stderr",
     "output_type": "stream",
     "text": [
      "      18/20         0G     0.4832      0.487     0.8918         72        640: 100%|██████████| 143/143 [10:45<00:00,  4.51s/it]\n",
      "                 Class     Images  Instances      Box(P          R      mAP50  mAP50-95): 100%|██████████| 4/4 [00:16<00:00,  4.10s/it]"
     ]
    },
    {
     "name": "stdout",
     "output_type": "stream",
     "text": [
      "                   all        128       3853      0.984      0.975      0.987      0.881\n"
     ]
    },
    {
     "name": "stderr",
     "output_type": "stream",
     "text": [
      "\n"
     ]
    },
    {
     "name": "stdout",
     "output_type": "stream",
     "text": [
      "\n",
      "      Epoch    GPU_mem   box_loss   cls_loss   dfl_loss  Instances       Size\n"
     ]
    },
    {
     "name": "stderr",
     "output_type": "stream",
     "text": [
      "      19/20         0G     0.4732     0.4724     0.8852         67        640: 100%|██████████| 143/143 [10:38<00:00,  4.47s/it]\n",
      "                 Class     Images  Instances      Box(P          R      mAP50  mAP50-95): 100%|██████████| 4/4 [00:19<00:00,  4.92s/it]"
     ]
    },
    {
     "name": "stdout",
     "output_type": "stream",
     "text": [
      "                   all        128       3853      0.986      0.971      0.986      0.887\n"
     ]
    },
    {
     "name": "stderr",
     "output_type": "stream",
     "text": [
      "\n"
     ]
    },
    {
     "name": "stdout",
     "output_type": "stream",
     "text": [
      "\n",
      "      Epoch    GPU_mem   box_loss   cls_loss   dfl_loss  Instances       Size\n"
     ]
    },
    {
     "name": "stderr",
     "output_type": "stream",
     "text": [
      "      20/20         0G     0.4681      0.466     0.8842        102        640: 100%|██████████| 143/143 [12:52<00:00,  5.40s/it]\n",
      "                 Class     Images  Instances      Box(P          R      mAP50  mAP50-95): 100%|██████████| 4/4 [00:19<00:00,  4.77s/it]"
     ]
    },
    {
     "name": "stdout",
     "output_type": "stream",
     "text": [
      "                   all        128       3853      0.986      0.974      0.987      0.884\n"
     ]
    },
    {
     "name": "stderr",
     "output_type": "stream",
     "text": [
      "\n"
     ]
    },
    {
     "name": "stdout",
     "output_type": "stream",
     "text": [
      "\n",
      "20 epochs completed in 4.316 hours.\n",
      "Optimizer stripped from runs\\detect\\train3\\weights\\last.pt, 6.2MB\n",
      "Optimizer stripped from runs\\detect\\train3\\weights\\best.pt, 6.2MB\n",
      "\n",
      "Validating runs\\detect\\train3\\weights\\best.pt...\n",
      "Ultralytics YOLOv8.1.6 🚀 Python-3.11.5 torch-2.1.2+cpu CPU (11th Gen Intel Core(TM) i7-11800H 2.30GHz)\n",
      "YOLOv8n summary (fused): 168 layers, 3005843 parameters, 0 gradients, 8.1 GFLOPs\n"
     ]
    },
    {
     "name": "stderr",
     "output_type": "stream",
     "text": [
      "                 Class     Images  Instances      Box(P          R      mAP50  mAP50-95): 100%|██████████| 4/4 [00:15<00:00,  3.95s/it]\n"
     ]
    },
    {
     "name": "stdout",
     "output_type": "stream",
     "text": [
      "                   all        128       3853      0.986      0.971      0.986      0.887\n",
      "Speed: 2.9ms preprocess, 93.3ms inference, 0.0ms loss, 0.6ms postprocess per image\n",
      "Results saved to \u001b[1mruns\\detect\\train3\u001b[0m\n"
     ]
    }
   ],
   "source": [
    "model = YOLO('yolov8n.yaml').load('yolov8n.pt')\n",
    "\n",
    "# Train the model\n",
    "results = model.train(data=r'C:\\Users\\sasan\\OneDrive\\Desktop\\CSC630\\aros-blueberry\\blueberry_measurement_yolov8\\data.yaml', epochs=20, imgsz=640)"
   ]
  },
  {
   "cell_type": "code",
   "execution_count": 2,
   "metadata": {},
   "outputs": [
    {
     "name": "stdout",
     "output_type": "stream",
     "text": [
      "sam_vit_h_4b8939.pth\n"
     ]
    }
   ],
   "source": [
    "import os\n",
    "\n",
    "HOME = os.getcwd()\n",
    "\n",
    "for root, dirs, files in os.walk(HOME):\n",
    "    for file in files:\n",
    "        if file.endswith('.pth'):\n",
    "            print(file)"
   ]
  },
  {
   "cell_type": "code",
   "execution_count": 6,
   "metadata": {},
   "outputs": [
    {
     "name": "stdout",
     "output_type": "stream",
     "text": [
      "\n",
      "image 1/1 C:\\Users\\sasan\\OneDrive\\Desktop\\CSC630\\aros-blueberry\\blueberry_segmentation-2\\test\\15-003_F2_18_21_jpg.rf.f289777165752d81a83fec82fdb8d2bc.jpg: 640x640 111 blueberrys, 112.1ms\n",
      "Speed: 7.0ms preprocess, 112.1ms inference, 11.0ms postprocess per image at shape (1, 3, 640, 640)\n",
      "Results saved to \u001b[1mruns\\detect\\predict2\u001b[0m\n"
     ]
    }
   ],
   "source": [
    "model = YOLO(r'C:\\Users\\sasan\\OneDrive\\Desktop\\CSC630\\aros-blueberry\\runs\\detect\\train3\\weights\\best.pt')\n",
    "\n",
    "test_image = r\"C:\\Users\\sasan\\OneDrive\\Desktop\\CSC630\\aros-blueberry\\blueberry_segmentation-2\\test\\15-003_F2_18_21_jpg.rf.f289777165752d81a83fec82fdb8d2bc.jpg\"\n",
    "test_result = model.predict(\n",
    "   source=test_image,\n",
    "   conf=0.25, save=True, save_crop=True , show_labels=False, show_conf=False\n",
    ")\n"
   ]
  },
  {
   "cell_type": "code",
   "execution_count": null,
   "metadata": {},
   "outputs": [],
   "source": []
  }
 ],
 "metadata": {
  "kernelspec": {
   "display_name": "Python 3",
   "language": "python",
   "name": "python3"
  },
  "language_info": {
   "codemirror_mode": {
    "name": "ipython",
    "version": 3
   },
   "file_extension": ".py",
   "mimetype": "text/x-python",
   "name": "python",
   "nbconvert_exporter": "python",
   "pygments_lexer": "ipython3",
   "version": "3.11.5"
  }
 },
 "nbformat": 4,
 "nbformat_minor": 2
}
